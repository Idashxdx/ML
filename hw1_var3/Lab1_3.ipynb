{
  "cells": [
    {
      "cell_type": "markdown",
      "id": "d129f558-e266-42cd-8bee-dabfd4c715e7",
      "metadata": {
        "id": "d129f558-e266-42cd-8bee-dabfd4c715e7"
      },
      "source": [
        "## Лабораторная работа №1 | Вариант 3"
      ]
    },
    {
      "cell_type": "markdown",
      "id": "913dc303-b443-486f-99ca-aa4a95477077",
      "metadata": {
        "id": "913dc303-b443-486f-99ca-aa4a95477077"
      },
      "source": [
        "Выполнил:"
      ]
    },
    {
      "cell_type": "markdown",
      "id": "be9d7461-98e4-40f4-88ea-9a0223ce51d1",
      "metadata": {
        "id": "be9d7461-98e4-40f4-88ea-9a0223ce51d1"
      },
      "source": [
        "### 1. Numpy"
      ]
    },
    {
      "cell_type": "code",
      "execution_count": 1,
      "id": "aac6dd5d-af95-49a0-a63c-c2fe87932294",
      "metadata": {
        "id": "aac6dd5d-af95-49a0-a63c-c2fe87932294"
      },
      "outputs": [],
      "source": [
        "import numpy as np"
      ]
    },
    {
      "cell_type": "markdown",
      "id": "7550f070-1dc5-4c1c-9d50-ee6e7d25c608",
      "metadata": {
        "id": "7550f070-1dc5-4c1c-9d50-ee6e7d25c608"
      },
      "source": [
        "1. Создайте массив D размером 4x4, заполненный числами от 1 до 16. Используйте срезы, чтобы извлечь подмассив размером 2x2, начиная с элемента в строке 1 и столбце 1."
      ]
    },
    {
      "cell_type": "code",
      "execution_count": 60,
      "id": "4db667a8-4aec-4d21-846d-621fc8bc8589",
      "metadata": {
        "colab": {
          "base_uri": "https://localhost:8080/"
        },
        "id": "4db667a8-4aec-4d21-846d-621fc8bc8589",
        "outputId": "1465fef7-e2fa-4731-d6d8-06e65ca28a75"
      },
      "outputs": [
        {
          "output_type": "stream",
          "name": "stdout",
          "text": [
            "[[ 6  7]\n",
            " [10 11]]\n"
          ]
        }
      ],
      "source": [
        "D = np.arange(1, 17).reshape(4, 4)\n",
        "subarr = D[1:3, 1:3]\n",
        "print(subarr)"
      ]
    },
    {
      "cell_type": "markdown",
      "id": "fc8c9a7a-5cca-46fc-9a83-d62799b1047e",
      "metadata": {
        "id": "fc8c9a7a-5cca-46fc-9a83-d62799b1047e"
      },
      "source": [
        "2. Создайте трехмерный массив a размером 4x3x2, заполненный случайными числами от 1 до 10. Найдите сумму всех элементов вдоль оси 1."
      ]
    },
    {
      "cell_type": "code",
      "execution_count": 49,
      "id": "c53d0205-e570-4844-8ef4-06608d4fb48e",
      "metadata": {
        "colab": {
          "base_uri": "https://localhost:8080/"
        },
        "id": "c53d0205-e570-4844-8ef4-06608d4fb48e",
        "outputId": "a98ab9db-abb9-4240-e77f-68625b3520f6"
      },
      "outputs": [
        {
          "output_type": "stream",
          "name": "stdout",
          "text": [
            "[[20 19]\n",
            " [16 22]\n",
            " [24 21]\n",
            " [12 16]]\n"
          ]
        }
      ],
      "source": [
        "a = np.random.randint(1, 11, (4, 3, 2))\n",
        "sum = a.sum(axis=1)\n",
        "print(sum)"
      ]
    },
    {
      "cell_type": "markdown",
      "id": "ef67e787-3442-437d-ad64-6f784267cf79",
      "metadata": {
        "id": "ef67e787-3442-437d-ad64-6f784267cf79"
      },
      "source": [
        "3. Напишите функцию, которая принимает матрицу и производит нормировку её элементов (т.е. $A'_{ij} = A_{ij} / \\sum_{i} \\sum_{j} A_{ij}$)"
      ]
    },
    {
      "cell_type": "code",
      "execution_count": 51,
      "id": "d93ce1a2-1312-4527-8583-b6ffdc605da0",
      "metadata": {
        "colab": {
          "base_uri": "https://localhost:8080/"
        },
        "id": "d93ce1a2-1312-4527-8583-b6ffdc605da0",
        "outputId": "8dc9f759-41aa-4abf-9a5b-f1f163dfe54a"
      },
      "outputs": [
        {
          "output_type": "stream",
          "name": "stdout",
          "text": [
            "[[0.1 0.2]\n",
            " [0.3 0.4]]\n"
          ]
        }
      ],
      "source": [
        "def normalize_matrix(A):\n",
        "    return A / A.sum()\n",
        "\n",
        "matrix = np.array([[1, 2], [3, 4]])\n",
        "print(normalize_matrix(matrix))"
      ]
    },
    {
      "cell_type": "markdown",
      "id": "b188c2e4-3b7a-4606-b295-5e309c6158ef",
      "metadata": {
        "id": "b188c2e4-3b7a-4606-b295-5e309c6158ef"
      },
      "source": [
        "4. Напишите функцию, которая принимает 3 трехмерных вектора $x, y, z$ и вычисляет объем пирамиды, образованной этими векторами (используйте смешанное произведение векторов)"
      ]
    },
    {
      "cell_type": "code",
      "execution_count": 56,
      "id": "9102b2e8-e846-47f1-b65b-9164179abff6",
      "metadata": {
        "colab": {
          "base_uri": "https://localhost:8080/"
        },
        "id": "9102b2e8-e846-47f1-b65b-9164179abff6",
        "outputId": "0eff221e-f2a7-4f35-c5e4-c9c3965c9b5f"
      },
      "outputs": [
        {
          "output_type": "stream",
          "name": "stdout",
          "text": [
            "0.16666666666666666\n"
          ]
        }
      ],
      "source": [
        "def pyramid_volume(x, y, z):\n",
        "    return abs(np.dot(x, np.cross(y, z))) / 6\n",
        "\n",
        "x = np.array([1, 0, 0])\n",
        "y = np.array([0, 1, 0])\n",
        "z = np.array([0, 0, 1])\n",
        "print(pyramid_volume(x, y, z))"
      ]
    },
    {
      "cell_type": "markdown",
      "id": "1d7b8407-f366-4a37-9e5e-b086722a82f8",
      "metadata": {
        "id": "1d7b8407-f366-4a37-9e5e-b086722a82f8"
      },
      "source": [
        "5. Напишите функцию, которая принимает число N и строит матрицу NxN, с нулями внутри и единицами на границе."
      ]
    },
    {
      "cell_type": "code",
      "execution_count": 114,
      "id": "7bc37720-2f47-4320-90a2-4be2dc4989ae",
      "metadata": {
        "colab": {
          "base_uri": "https://localhost:8080/"
        },
        "id": "7bc37720-2f47-4320-90a2-4be2dc4989ae",
        "outputId": "b0df828e-6bd5-45ba-e087-815400f6ea3a"
      },
      "outputs": [
        {
          "output_type": "stream",
          "name": "stdout",
          "text": [
            "[[1 1 1]\n",
            " [1 0 1]\n",
            " [1 1 1]]\n"
          ]
        }
      ],
      "source": [
        "def create_border_matrix(N):\n",
        "    matrix = np.ones((N, N), dtype=int)\n",
        "    matrix[1:-1,1:-1] = 0\n",
        "    return matrix\n",
        "\n",
        "print(create_border_matrix(3))"
      ]
    },
    {
      "cell_type": "markdown",
      "id": "576b7d23-1a46-46fa-92a7-e5f3240544d7",
      "metadata": {
        "id": "576b7d23-1a46-46fa-92a7-e5f3240544d7"
      },
      "source": [
        "6. Создайте матрицу шахматную доску 8х8 используя функцию `tile`"
      ]
    },
    {
      "cell_type": "code",
      "execution_count": 63,
      "id": "c1e16045-39c5-4006-b0bd-6fe926004e48",
      "metadata": {
        "colab": {
          "base_uri": "https://localhost:8080/"
        },
        "id": "c1e16045-39c5-4006-b0bd-6fe926004e48",
        "outputId": "9916c5f8-5c85-4f20-d896-7a61b58175af"
      },
      "outputs": [
        {
          "output_type": "stream",
          "name": "stdout",
          "text": [
            "[[0 1 0 1 0 1 0 1]\n",
            " [1 0 1 0 1 0 1 0]\n",
            " [0 1 0 1 0 1 0 1]\n",
            " [1 0 1 0 1 0 1 0]\n",
            " [0 1 0 1 0 1 0 1]\n",
            " [1 0 1 0 1 0 1 0]\n",
            " [0 1 0 1 0 1 0 1]\n",
            " [1 0 1 0 1 0 1 0]]\n"
          ]
        }
      ],
      "source": [
        "chessboard = np.tile([[0, 1], [1, 0]], (4, 4))\n",
        "print(chessboard)"
      ]
    },
    {
      "cell_type": "markdown",
      "id": "a8644cfc-d2e8-442c-896e-bb9421b5dfd8",
      "metadata": {
        "id": "a8644cfc-d2e8-442c-896e-bb9421b5dfd8"
      },
      "source": [
        "7. Как найти наиболее близкое значение (к заданному скаляру) в векторе?"
      ]
    },
    {
      "cell_type": "code",
      "execution_count": 93,
      "id": "cd84c92f-81df-4a99-842a-686725012ca0",
      "metadata": {
        "colab": {
          "base_uri": "https://localhost:8080/"
        },
        "id": "cd84c92f-81df-4a99-842a-686725012ca0",
        "outputId": "06ddca16-9f22-4df1-8764-61ddb70144e5"
      },
      "outputs": [
        {
          "output_type": "stream",
          "name": "stdout",
          "text": [
            "10\n"
          ]
        }
      ],
      "source": [
        "vector = np.array([1, 10, 100, 1000])\n",
        "scalar = 55\n",
        "closest = vector[np.argmin(np.abs(vector - scalar))]\n",
        "print(closest)"
      ]
    },
    {
      "cell_type": "markdown",
      "id": "993713d8-7b54-41f6-9660-914ae9a8c72c",
      "metadata": {
        "id": "993713d8-7b54-41f6-9660-914ae9a8c72c"
      },
      "source": [
        "8. Создайте случайный вектор размером 10 и отсортируйте его"
      ]
    },
    {
      "cell_type": "code",
      "execution_count": 116,
      "id": "76ca7ccf-e933-4823-9641-0c4a6fe062c2",
      "metadata": {
        "colab": {
          "base_uri": "https://localhost:8080/"
        },
        "id": "76ca7ccf-e933-4823-9641-0c4a6fe062c2",
        "outputId": "6f2d3433-d94d-41ca-a1ba-4f785b678a93"
      },
      "outputs": [
        {
          "output_type": "stream",
          "name": "stdout",
          "text": [
            "[88 91 26  9 39 94 86 74 34 50]\n",
            "[ 9 26 34 39 50 74 86 88 91 94]\n"
          ]
        }
      ],
      "source": [
        "vector = np.random.randint(1, 100, 10)\n",
        "print(vector)\n",
        "vector.sort()\n",
        "print(vector)"
      ]
    },
    {
      "cell_type": "markdown",
      "id": "a1c01801-ef12-421c-816e-22dd27bc77a9",
      "metadata": {
        "id": "a1c01801-ef12-421c-816e-22dd27bc77a9"
      },
      "source": [
        "9. Создайте случайный вектор длиной 10 и замените максимальное значение в нем на 0"
      ]
    },
    {
      "cell_type": "code",
      "execution_count": 120,
      "id": "2096db2f-8600-4f85-becc-b659abfc5211",
      "metadata": {
        "colab": {
          "base_uri": "https://localhost:8080/"
        },
        "id": "2096db2f-8600-4f85-becc-b659abfc5211",
        "outputId": "c356c2e4-828d-483b-fec8-2070e63c267b"
      },
      "outputs": [
        {
          "output_type": "stream",
          "name": "stdout",
          "text": [
            "[ 8 52 23 13 31 79 99 35 52 15]\n",
            "[ 8 52 23 13 31 79  0 35 52 15]\n"
          ]
        }
      ],
      "source": [
        "vector = np.random.randint(1, 100, 10)\n",
        "print(vector)\n",
        "vector[vector.argmax()] = 0\n",
        "print(vector)"
      ]
    },
    {
      "cell_type": "markdown",
      "id": "e0f76169-6874-4fec-aea2-4046934b69bc",
      "metadata": {
        "id": "e0f76169-6874-4fec-aea2-4046934b69bc"
      },
      "source": [
        "10. Даны 2 массива Х и Y, постройте матрицу Коши $C$ ($C_{ij} = \\frac{1}{x_i - y_j}$)"
      ]
    },
    {
      "cell_type": "code",
      "execution_count": 106,
      "id": "35cb1574-cbdd-4060-9247-defc15a1dff5",
      "metadata": {
        "colab": {
          "base_uri": "https://localhost:8080/"
        },
        "id": "35cb1574-cbdd-4060-9247-defc15a1dff5",
        "outputId": "b6c04044-d67d-410b-e442-88c48e2c6bd0"
      },
      "outputs": [
        {
          "output_type": "stream",
          "name": "stdout",
          "text": [
            "[[-0.33333333 -0.25       -0.2       ]\n",
            " [-0.5        -0.33333333 -0.25      ]\n",
            " [-1.         -0.5        -0.33333333]]\n"
          ]
        }
      ],
      "source": [
        "X = np.array([1, 2, 3])\n",
        "Y = np.array([4, 5, 6])\n",
        "C = 1.0 / np.subtract.outer(X, Y)\n",
        "print(C)"
      ]
    },
    {
      "cell_type": "markdown",
      "id": "71788cf1-8f66-47d5-a90b-65689f7b836c",
      "metadata": {
        "id": "71788cf1-8f66-47d5-a90b-65689f7b836c"
      },
      "source": [
        "### 2. Pandas"
      ]
    },
    {
      "cell_type": "markdown",
      "id": "c3f6b194-83de-45cc-a6da-f1def5de88a7",
      "metadata": {
        "id": "c3f6b194-83de-45cc-a6da-f1def5de88a7"
      },
      "source": [
        "Представлено 2 датасета в формате CSV.\n",
        "\n",
        "Найдите ответы на вопросы или выполните действия с предложенным датасетом\n",
        "\n",
        "Файлы: `countries.csv`, `covid-country-data.csv`"
      ]
    },
    {
      "cell_type": "code",
      "execution_count": 128,
      "id": "39f2f1ec-760a-429e-b5be-49a3edbeb663",
      "metadata": {
        "id": "39f2f1ec-760a-429e-b5be-49a3edbeb663"
      },
      "outputs": [],
      "source": [
        "import pandas as pd"
      ]
    },
    {
      "cell_type": "code",
      "execution_count": 174,
      "id": "c7d3135b-edf7-4e82-bbcb-b920980c79c6",
      "metadata": {
        "id": "c7d3135b-edf7-4e82-bbcb-b920980c79c6"
      },
      "outputs": [],
      "source": [
        "data = pd.read_csv('countries.csv')"
      ]
    },
    {
      "cell_type": "code",
      "source": [
        "covid_data = pd.read_csv('covid-country-data.csv')"
      ],
      "metadata": {
        "id": "TpCWvvF9KzY7"
      },
      "id": "TpCWvvF9KzY7",
      "execution_count": 173,
      "outputs": []
    },
    {
      "cell_type": "code",
      "execution_count": 130,
      "id": "446c38b0-313f-4f19-8be0-a90d17f3d0ab",
      "metadata": {
        "colab": {
          "base_uri": "https://localhost:8080/",
          "height": 206
        },
        "id": "446c38b0-313f-4f19-8be0-a90d17f3d0ab",
        "outputId": "b8c01220-66e6-4399-ed1d-1e4285040371"
      },
      "outputs": [
        {
          "output_type": "execute_result",
          "data": {
            "text/plain": [
              "      location continent  population  life_expectancy  \\\n",
              "0  Afghanistan      Asia  38928341.0            64.83   \n",
              "1      Albania    Europe   2877800.0            78.57   \n",
              "2      Algeria    Africa  43851043.0            76.88   \n",
              "3      Andorra    Europe     77265.0            83.73   \n",
              "4       Angola    Africa  32866268.0            61.15   \n",
              "\n",
              "   hospital_beds_per_thousand  gdp_per_capita  \n",
              "0                        0.50        1803.987  \n",
              "1                        2.89       11803.431  \n",
              "2                        1.90       13913.839  \n",
              "3                         NaN             NaN  \n",
              "4                         NaN        5819.495  "
            ],
            "text/html": [
              "\n",
              "  <div id=\"df-c8339d1e-4d83-4784-886d-eec6b2dcffb0\" class=\"colab-df-container\">\n",
              "    <div>\n",
              "<style scoped>\n",
              "    .dataframe tbody tr th:only-of-type {\n",
              "        vertical-align: middle;\n",
              "    }\n",
              "\n",
              "    .dataframe tbody tr th {\n",
              "        vertical-align: top;\n",
              "    }\n",
              "\n",
              "    .dataframe thead th {\n",
              "        text-align: right;\n",
              "    }\n",
              "</style>\n",
              "<table border=\"1\" class=\"dataframe\">\n",
              "  <thead>\n",
              "    <tr style=\"text-align: right;\">\n",
              "      <th></th>\n",
              "      <th>location</th>\n",
              "      <th>continent</th>\n",
              "      <th>population</th>\n",
              "      <th>life_expectancy</th>\n",
              "      <th>hospital_beds_per_thousand</th>\n",
              "      <th>gdp_per_capita</th>\n",
              "    </tr>\n",
              "  </thead>\n",
              "  <tbody>\n",
              "    <tr>\n",
              "      <th>0</th>\n",
              "      <td>Afghanistan</td>\n",
              "      <td>Asia</td>\n",
              "      <td>38928341.0</td>\n",
              "      <td>64.83</td>\n",
              "      <td>0.50</td>\n",
              "      <td>1803.987</td>\n",
              "    </tr>\n",
              "    <tr>\n",
              "      <th>1</th>\n",
              "      <td>Albania</td>\n",
              "      <td>Europe</td>\n",
              "      <td>2877800.0</td>\n",
              "      <td>78.57</td>\n",
              "      <td>2.89</td>\n",
              "      <td>11803.431</td>\n",
              "    </tr>\n",
              "    <tr>\n",
              "      <th>2</th>\n",
              "      <td>Algeria</td>\n",
              "      <td>Africa</td>\n",
              "      <td>43851043.0</td>\n",
              "      <td>76.88</td>\n",
              "      <td>1.90</td>\n",
              "      <td>13913.839</td>\n",
              "    </tr>\n",
              "    <tr>\n",
              "      <th>3</th>\n",
              "      <td>Andorra</td>\n",
              "      <td>Europe</td>\n",
              "      <td>77265.0</td>\n",
              "      <td>83.73</td>\n",
              "      <td>NaN</td>\n",
              "      <td>NaN</td>\n",
              "    </tr>\n",
              "    <tr>\n",
              "      <th>4</th>\n",
              "      <td>Angola</td>\n",
              "      <td>Africa</td>\n",
              "      <td>32866268.0</td>\n",
              "      <td>61.15</td>\n",
              "      <td>NaN</td>\n",
              "      <td>5819.495</td>\n",
              "    </tr>\n",
              "  </tbody>\n",
              "</table>\n",
              "</div>\n",
              "    <div class=\"colab-df-buttons\">\n",
              "\n",
              "  <div class=\"colab-df-container\">\n",
              "    <button class=\"colab-df-convert\" onclick=\"convertToInteractive('df-c8339d1e-4d83-4784-886d-eec6b2dcffb0')\"\n",
              "            title=\"Convert this dataframe to an interactive table.\"\n",
              "            style=\"display:none;\">\n",
              "\n",
              "  <svg xmlns=\"http://www.w3.org/2000/svg\" height=\"24px\" viewBox=\"0 -960 960 960\">\n",
              "    <path d=\"M120-120v-720h720v720H120Zm60-500h600v-160H180v160Zm220 220h160v-160H400v160Zm0 220h160v-160H400v160ZM180-400h160v-160H180v160Zm440 0h160v-160H620v160ZM180-180h160v-160H180v160Zm440 0h160v-160H620v160Z\"/>\n",
              "  </svg>\n",
              "    </button>\n",
              "\n",
              "  <style>\n",
              "    .colab-df-container {\n",
              "      display:flex;\n",
              "      gap: 12px;\n",
              "    }\n",
              "\n",
              "    .colab-df-convert {\n",
              "      background-color: #E8F0FE;\n",
              "      border: none;\n",
              "      border-radius: 50%;\n",
              "      cursor: pointer;\n",
              "      display: none;\n",
              "      fill: #1967D2;\n",
              "      height: 32px;\n",
              "      padding: 0 0 0 0;\n",
              "      width: 32px;\n",
              "    }\n",
              "\n",
              "    .colab-df-convert:hover {\n",
              "      background-color: #E2EBFA;\n",
              "      box-shadow: 0px 1px 2px rgba(60, 64, 67, 0.3), 0px 1px 3px 1px rgba(60, 64, 67, 0.15);\n",
              "      fill: #174EA6;\n",
              "    }\n",
              "\n",
              "    .colab-df-buttons div {\n",
              "      margin-bottom: 4px;\n",
              "    }\n",
              "\n",
              "    [theme=dark] .colab-df-convert {\n",
              "      background-color: #3B4455;\n",
              "      fill: #D2E3FC;\n",
              "    }\n",
              "\n",
              "    [theme=dark] .colab-df-convert:hover {\n",
              "      background-color: #434B5C;\n",
              "      box-shadow: 0px 1px 3px 1px rgba(0, 0, 0, 0.15);\n",
              "      filter: drop-shadow(0px 1px 2px rgba(0, 0, 0, 0.3));\n",
              "      fill: #FFFFFF;\n",
              "    }\n",
              "  </style>\n",
              "\n",
              "    <script>\n",
              "      const buttonEl =\n",
              "        document.querySelector('#df-c8339d1e-4d83-4784-886d-eec6b2dcffb0 button.colab-df-convert');\n",
              "      buttonEl.style.display =\n",
              "        google.colab.kernel.accessAllowed ? 'block' : 'none';\n",
              "\n",
              "      async function convertToInteractive(key) {\n",
              "        const element = document.querySelector('#df-c8339d1e-4d83-4784-886d-eec6b2dcffb0');\n",
              "        const dataTable =\n",
              "          await google.colab.kernel.invokeFunction('convertToInteractive',\n",
              "                                                    [key], {});\n",
              "        if (!dataTable) return;\n",
              "\n",
              "        const docLinkHtml = 'Like what you see? Visit the ' +\n",
              "          '<a target=\"_blank\" href=https://colab.research.google.com/notebooks/data_table.ipynb>data table notebook</a>'\n",
              "          + ' to learn more about interactive tables.';\n",
              "        element.innerHTML = '';\n",
              "        dataTable['output_type'] = 'display_data';\n",
              "        await google.colab.output.renderOutput(dataTable, element);\n",
              "        const docLink = document.createElement('div');\n",
              "        docLink.innerHTML = docLinkHtml;\n",
              "        element.appendChild(docLink);\n",
              "      }\n",
              "    </script>\n",
              "  </div>\n",
              "\n",
              "\n",
              "<div id=\"df-003c1779-c0c6-4ce4-9ece-44e1abbf53f0\">\n",
              "  <button class=\"colab-df-quickchart\" onclick=\"quickchart('df-003c1779-c0c6-4ce4-9ece-44e1abbf53f0')\"\n",
              "            title=\"Suggest charts\"\n",
              "            style=\"display:none;\">\n",
              "\n",
              "<svg xmlns=\"http://www.w3.org/2000/svg\" height=\"24px\"viewBox=\"0 0 24 24\"\n",
              "     width=\"24px\">\n",
              "    <g>\n",
              "        <path d=\"M19 3H5c-1.1 0-2 .9-2 2v14c0 1.1.9 2 2 2h14c1.1 0 2-.9 2-2V5c0-1.1-.9-2-2-2zM9 17H7v-7h2v7zm4 0h-2V7h2v10zm4 0h-2v-4h2v4z\"/>\n",
              "    </g>\n",
              "</svg>\n",
              "  </button>\n",
              "\n",
              "<style>\n",
              "  .colab-df-quickchart {\n",
              "      --bg-color: #E8F0FE;\n",
              "      --fill-color: #1967D2;\n",
              "      --hover-bg-color: #E2EBFA;\n",
              "      --hover-fill-color: #174EA6;\n",
              "      --disabled-fill-color: #AAA;\n",
              "      --disabled-bg-color: #DDD;\n",
              "  }\n",
              "\n",
              "  [theme=dark] .colab-df-quickchart {\n",
              "      --bg-color: #3B4455;\n",
              "      --fill-color: #D2E3FC;\n",
              "      --hover-bg-color: #434B5C;\n",
              "      --hover-fill-color: #FFFFFF;\n",
              "      --disabled-bg-color: #3B4455;\n",
              "      --disabled-fill-color: #666;\n",
              "  }\n",
              "\n",
              "  .colab-df-quickchart {\n",
              "    background-color: var(--bg-color);\n",
              "    border: none;\n",
              "    border-radius: 50%;\n",
              "    cursor: pointer;\n",
              "    display: none;\n",
              "    fill: var(--fill-color);\n",
              "    height: 32px;\n",
              "    padding: 0;\n",
              "    width: 32px;\n",
              "  }\n",
              "\n",
              "  .colab-df-quickchart:hover {\n",
              "    background-color: var(--hover-bg-color);\n",
              "    box-shadow: 0 1px 2px rgba(60, 64, 67, 0.3), 0 1px 3px 1px rgba(60, 64, 67, 0.15);\n",
              "    fill: var(--button-hover-fill-color);\n",
              "  }\n",
              "\n",
              "  .colab-df-quickchart-complete:disabled,\n",
              "  .colab-df-quickchart-complete:disabled:hover {\n",
              "    background-color: var(--disabled-bg-color);\n",
              "    fill: var(--disabled-fill-color);\n",
              "    box-shadow: none;\n",
              "  }\n",
              "\n",
              "  .colab-df-spinner {\n",
              "    border: 2px solid var(--fill-color);\n",
              "    border-color: transparent;\n",
              "    border-bottom-color: var(--fill-color);\n",
              "    animation:\n",
              "      spin 1s steps(1) infinite;\n",
              "  }\n",
              "\n",
              "  @keyframes spin {\n",
              "    0% {\n",
              "      border-color: transparent;\n",
              "      border-bottom-color: var(--fill-color);\n",
              "      border-left-color: var(--fill-color);\n",
              "    }\n",
              "    20% {\n",
              "      border-color: transparent;\n",
              "      border-left-color: var(--fill-color);\n",
              "      border-top-color: var(--fill-color);\n",
              "    }\n",
              "    30% {\n",
              "      border-color: transparent;\n",
              "      border-left-color: var(--fill-color);\n",
              "      border-top-color: var(--fill-color);\n",
              "      border-right-color: var(--fill-color);\n",
              "    }\n",
              "    40% {\n",
              "      border-color: transparent;\n",
              "      border-right-color: var(--fill-color);\n",
              "      border-top-color: var(--fill-color);\n",
              "    }\n",
              "    60% {\n",
              "      border-color: transparent;\n",
              "      border-right-color: var(--fill-color);\n",
              "    }\n",
              "    80% {\n",
              "      border-color: transparent;\n",
              "      border-right-color: var(--fill-color);\n",
              "      border-bottom-color: var(--fill-color);\n",
              "    }\n",
              "    90% {\n",
              "      border-color: transparent;\n",
              "      border-bottom-color: var(--fill-color);\n",
              "    }\n",
              "  }\n",
              "</style>\n",
              "\n",
              "  <script>\n",
              "    async function quickchart(key) {\n",
              "      const quickchartButtonEl =\n",
              "        document.querySelector('#' + key + ' button');\n",
              "      quickchartButtonEl.disabled = true;  // To prevent multiple clicks.\n",
              "      quickchartButtonEl.classList.add('colab-df-spinner');\n",
              "      try {\n",
              "        const charts = await google.colab.kernel.invokeFunction(\n",
              "            'suggestCharts', [key], {});\n",
              "      } catch (error) {\n",
              "        console.error('Error during call to suggestCharts:', error);\n",
              "      }\n",
              "      quickchartButtonEl.classList.remove('colab-df-spinner');\n",
              "      quickchartButtonEl.classList.add('colab-df-quickchart-complete');\n",
              "    }\n",
              "    (() => {\n",
              "      let quickchartButtonEl =\n",
              "        document.querySelector('#df-003c1779-c0c6-4ce4-9ece-44e1abbf53f0 button');\n",
              "      quickchartButtonEl.style.display =\n",
              "        google.colab.kernel.accessAllowed ? 'block' : 'none';\n",
              "    })();\n",
              "  </script>\n",
              "</div>\n",
              "    </div>\n",
              "  </div>\n"
            ],
            "application/vnd.google.colaboratory.intrinsic+json": {
              "type": "dataframe",
              "variable_name": "data",
              "summary": "{\n  \"name\": \"data\",\n  \"rows\": 210,\n  \"fields\": [\n    {\n      \"column\": \"location\",\n      \"properties\": {\n        \"dtype\": \"string\",\n        \"num_unique_values\": 210,\n        \"samples\": [\n          \"Bulgaria\",\n          \"Slovenia\",\n          \"Guyana\"\n        ],\n        \"semantic_type\": \"\",\n        \"description\": \"\"\n      }\n    },\n    {\n      \"column\": \"continent\",\n      \"properties\": {\n        \"dtype\": \"category\",\n        \"num_unique_values\": 6,\n        \"samples\": [\n          \"Asia\",\n          \"Europe\",\n          \"Oceania\"\n        ],\n        \"semantic_type\": \"\",\n        \"description\": \"\"\n      }\n    },\n    {\n      \"column\": \"population\",\n      \"properties\": {\n        \"dtype\": \"number\",\n        \"std\": 142509205.1345025,\n        \"min\": 809.0,\n        \"max\": 1439323774.0,\n        \"num_unique_values\": 210,\n        \"samples\": [\n          6948445.0,\n          2078932.0,\n          786559.0\n        ],\n        \"semantic_type\": \"\",\n        \"description\": \"\"\n      }\n    },\n    {\n      \"column\": \"life_expectancy\",\n      \"properties\": {\n        \"dtype\": \"number\",\n        \"std\": 7.560056151115566,\n        \"min\": 53.28,\n        \"max\": 86.75,\n        \"num_unique_values\": 197,\n        \"samples\": [\n          74.25,\n          76.16,\n          79.19\n        ],\n        \"semantic_type\": \"\",\n        \"description\": \"\"\n      }\n    },\n    {\n      \"column\": \"hospital_beds_per_thousand\",\n      \"properties\": {\n        \"dtype\": \"number\",\n        \"std\": 2.4649168855927863,\n        \"min\": 0.1,\n        \"max\": 13.8,\n        \"num_unique_values\": 99,\n        \"samples\": [\n          2.397,\n          0.3,\n          2.54\n        ],\n        \"semantic_type\": \"\",\n        \"description\": \"\"\n      }\n    },\n    {\n      \"column\": \"gdp_per_capita\",\n      \"properties\": {\n        \"dtype\": \"number\",\n        \"std\": 19820.802488409412,\n        \"min\": 661.24,\n        \"max\": 116935.6,\n        \"num_unique_values\": 183,\n        \"samples\": [\n          50669.315,\n          3601.006,\n          1569.888\n        ],\n        \"semantic_type\": \"\",\n        \"description\": \"\"\n      }\n    }\n  ]\n}"
            }
          },
          "metadata": {},
          "execution_count": 130
        }
      ],
      "source": [
        "data.head()"
      ]
    },
    {
      "cell_type": "code",
      "source": [
        "covid_data.head()"
      ],
      "metadata": {
        "colab": {
          "base_uri": "https://localhost:8080/",
          "height": 206
        },
        "id": "bd2WkhUvK4ew",
        "outputId": "05c11a29-0307-4a3f-a89f-6de3e1650204"
      },
      "id": "bd2WkhUvK4ew",
      "execution_count": 172,
      "outputs": [
        {
          "output_type": "execute_result",
          "data": {
            "text/plain": [
              "      location  total_cases  total_deaths  total_tests\n",
              "0  Afghanistan      38243.0        1409.0          NaN\n",
              "1      Albania       9728.0         296.0          NaN\n",
              "2      Algeria      45158.0        1525.0          NaN\n",
              "3      Andorra       1199.0          53.0          NaN\n",
              "4       Angola       2729.0         109.0          NaN"
            ],
            "text/html": [
              "\n",
              "  <div id=\"df-35ab11c1-0276-4bf9-967a-4981fe59ce33\" class=\"colab-df-container\">\n",
              "    <div>\n",
              "<style scoped>\n",
              "    .dataframe tbody tr th:only-of-type {\n",
              "        vertical-align: middle;\n",
              "    }\n",
              "\n",
              "    .dataframe tbody tr th {\n",
              "        vertical-align: top;\n",
              "    }\n",
              "\n",
              "    .dataframe thead th {\n",
              "        text-align: right;\n",
              "    }\n",
              "</style>\n",
              "<table border=\"1\" class=\"dataframe\">\n",
              "  <thead>\n",
              "    <tr style=\"text-align: right;\">\n",
              "      <th></th>\n",
              "      <th>location</th>\n",
              "      <th>total_cases</th>\n",
              "      <th>total_deaths</th>\n",
              "      <th>total_tests</th>\n",
              "    </tr>\n",
              "  </thead>\n",
              "  <tbody>\n",
              "    <tr>\n",
              "      <th>0</th>\n",
              "      <td>Afghanistan</td>\n",
              "      <td>38243.0</td>\n",
              "      <td>1409.0</td>\n",
              "      <td>NaN</td>\n",
              "    </tr>\n",
              "    <tr>\n",
              "      <th>1</th>\n",
              "      <td>Albania</td>\n",
              "      <td>9728.0</td>\n",
              "      <td>296.0</td>\n",
              "      <td>NaN</td>\n",
              "    </tr>\n",
              "    <tr>\n",
              "      <th>2</th>\n",
              "      <td>Algeria</td>\n",
              "      <td>45158.0</td>\n",
              "      <td>1525.0</td>\n",
              "      <td>NaN</td>\n",
              "    </tr>\n",
              "    <tr>\n",
              "      <th>3</th>\n",
              "      <td>Andorra</td>\n",
              "      <td>1199.0</td>\n",
              "      <td>53.0</td>\n",
              "      <td>NaN</td>\n",
              "    </tr>\n",
              "    <tr>\n",
              "      <th>4</th>\n",
              "      <td>Angola</td>\n",
              "      <td>2729.0</td>\n",
              "      <td>109.0</td>\n",
              "      <td>NaN</td>\n",
              "    </tr>\n",
              "  </tbody>\n",
              "</table>\n",
              "</div>\n",
              "    <div class=\"colab-df-buttons\">\n",
              "\n",
              "  <div class=\"colab-df-container\">\n",
              "    <button class=\"colab-df-convert\" onclick=\"convertToInteractive('df-35ab11c1-0276-4bf9-967a-4981fe59ce33')\"\n",
              "            title=\"Convert this dataframe to an interactive table.\"\n",
              "            style=\"display:none;\">\n",
              "\n",
              "  <svg xmlns=\"http://www.w3.org/2000/svg\" height=\"24px\" viewBox=\"0 -960 960 960\">\n",
              "    <path d=\"M120-120v-720h720v720H120Zm60-500h600v-160H180v160Zm220 220h160v-160H400v160Zm0 220h160v-160H400v160ZM180-400h160v-160H180v160Zm440 0h160v-160H620v160ZM180-180h160v-160H180v160Zm440 0h160v-160H620v160Z\"/>\n",
              "  </svg>\n",
              "    </button>\n",
              "\n",
              "  <style>\n",
              "    .colab-df-container {\n",
              "      display:flex;\n",
              "      gap: 12px;\n",
              "    }\n",
              "\n",
              "    .colab-df-convert {\n",
              "      background-color: #E8F0FE;\n",
              "      border: none;\n",
              "      border-radius: 50%;\n",
              "      cursor: pointer;\n",
              "      display: none;\n",
              "      fill: #1967D2;\n",
              "      height: 32px;\n",
              "      padding: 0 0 0 0;\n",
              "      width: 32px;\n",
              "    }\n",
              "\n",
              "    .colab-df-convert:hover {\n",
              "      background-color: #E2EBFA;\n",
              "      box-shadow: 0px 1px 2px rgba(60, 64, 67, 0.3), 0px 1px 3px 1px rgba(60, 64, 67, 0.15);\n",
              "      fill: #174EA6;\n",
              "    }\n",
              "\n",
              "    .colab-df-buttons div {\n",
              "      margin-bottom: 4px;\n",
              "    }\n",
              "\n",
              "    [theme=dark] .colab-df-convert {\n",
              "      background-color: #3B4455;\n",
              "      fill: #D2E3FC;\n",
              "    }\n",
              "\n",
              "    [theme=dark] .colab-df-convert:hover {\n",
              "      background-color: #434B5C;\n",
              "      box-shadow: 0px 1px 3px 1px rgba(0, 0, 0, 0.15);\n",
              "      filter: drop-shadow(0px 1px 2px rgba(0, 0, 0, 0.3));\n",
              "      fill: #FFFFFF;\n",
              "    }\n",
              "  </style>\n",
              "\n",
              "    <script>\n",
              "      const buttonEl =\n",
              "        document.querySelector('#df-35ab11c1-0276-4bf9-967a-4981fe59ce33 button.colab-df-convert');\n",
              "      buttonEl.style.display =\n",
              "        google.colab.kernel.accessAllowed ? 'block' : 'none';\n",
              "\n",
              "      async function convertToInteractive(key) {\n",
              "        const element = document.querySelector('#df-35ab11c1-0276-4bf9-967a-4981fe59ce33');\n",
              "        const dataTable =\n",
              "          await google.colab.kernel.invokeFunction('convertToInteractive',\n",
              "                                                    [key], {});\n",
              "        if (!dataTable) return;\n",
              "\n",
              "        const docLinkHtml = 'Like what you see? Visit the ' +\n",
              "          '<a target=\"_blank\" href=https://colab.research.google.com/notebooks/data_table.ipynb>data table notebook</a>'\n",
              "          + ' to learn more about interactive tables.';\n",
              "        element.innerHTML = '';\n",
              "        dataTable['output_type'] = 'display_data';\n",
              "        await google.colab.output.renderOutput(dataTable, element);\n",
              "        const docLink = document.createElement('div');\n",
              "        docLink.innerHTML = docLinkHtml;\n",
              "        element.appendChild(docLink);\n",
              "      }\n",
              "    </script>\n",
              "  </div>\n",
              "\n",
              "\n",
              "<div id=\"df-c9515d7f-0405-4656-a372-9c755399c5a8\">\n",
              "  <button class=\"colab-df-quickchart\" onclick=\"quickchart('df-c9515d7f-0405-4656-a372-9c755399c5a8')\"\n",
              "            title=\"Suggest charts\"\n",
              "            style=\"display:none;\">\n",
              "\n",
              "<svg xmlns=\"http://www.w3.org/2000/svg\" height=\"24px\"viewBox=\"0 0 24 24\"\n",
              "     width=\"24px\">\n",
              "    <g>\n",
              "        <path d=\"M19 3H5c-1.1 0-2 .9-2 2v14c0 1.1.9 2 2 2h14c1.1 0 2-.9 2-2V5c0-1.1-.9-2-2-2zM9 17H7v-7h2v7zm4 0h-2V7h2v10zm4 0h-2v-4h2v4z\"/>\n",
              "    </g>\n",
              "</svg>\n",
              "  </button>\n",
              "\n",
              "<style>\n",
              "  .colab-df-quickchart {\n",
              "      --bg-color: #E8F0FE;\n",
              "      --fill-color: #1967D2;\n",
              "      --hover-bg-color: #E2EBFA;\n",
              "      --hover-fill-color: #174EA6;\n",
              "      --disabled-fill-color: #AAA;\n",
              "      --disabled-bg-color: #DDD;\n",
              "  }\n",
              "\n",
              "  [theme=dark] .colab-df-quickchart {\n",
              "      --bg-color: #3B4455;\n",
              "      --fill-color: #D2E3FC;\n",
              "      --hover-bg-color: #434B5C;\n",
              "      --hover-fill-color: #FFFFFF;\n",
              "      --disabled-bg-color: #3B4455;\n",
              "      --disabled-fill-color: #666;\n",
              "  }\n",
              "\n",
              "  .colab-df-quickchart {\n",
              "    background-color: var(--bg-color);\n",
              "    border: none;\n",
              "    border-radius: 50%;\n",
              "    cursor: pointer;\n",
              "    display: none;\n",
              "    fill: var(--fill-color);\n",
              "    height: 32px;\n",
              "    padding: 0;\n",
              "    width: 32px;\n",
              "  }\n",
              "\n",
              "  .colab-df-quickchart:hover {\n",
              "    background-color: var(--hover-bg-color);\n",
              "    box-shadow: 0 1px 2px rgba(60, 64, 67, 0.3), 0 1px 3px 1px rgba(60, 64, 67, 0.15);\n",
              "    fill: var(--button-hover-fill-color);\n",
              "  }\n",
              "\n",
              "  .colab-df-quickchart-complete:disabled,\n",
              "  .colab-df-quickchart-complete:disabled:hover {\n",
              "    background-color: var(--disabled-bg-color);\n",
              "    fill: var(--disabled-fill-color);\n",
              "    box-shadow: none;\n",
              "  }\n",
              "\n",
              "  .colab-df-spinner {\n",
              "    border: 2px solid var(--fill-color);\n",
              "    border-color: transparent;\n",
              "    border-bottom-color: var(--fill-color);\n",
              "    animation:\n",
              "      spin 1s steps(1) infinite;\n",
              "  }\n",
              "\n",
              "  @keyframes spin {\n",
              "    0% {\n",
              "      border-color: transparent;\n",
              "      border-bottom-color: var(--fill-color);\n",
              "      border-left-color: var(--fill-color);\n",
              "    }\n",
              "    20% {\n",
              "      border-color: transparent;\n",
              "      border-left-color: var(--fill-color);\n",
              "      border-top-color: var(--fill-color);\n",
              "    }\n",
              "    30% {\n",
              "      border-color: transparent;\n",
              "      border-left-color: var(--fill-color);\n",
              "      border-top-color: var(--fill-color);\n",
              "      border-right-color: var(--fill-color);\n",
              "    }\n",
              "    40% {\n",
              "      border-color: transparent;\n",
              "      border-right-color: var(--fill-color);\n",
              "      border-top-color: var(--fill-color);\n",
              "    }\n",
              "    60% {\n",
              "      border-color: transparent;\n",
              "      border-right-color: var(--fill-color);\n",
              "    }\n",
              "    80% {\n",
              "      border-color: transparent;\n",
              "      border-right-color: var(--fill-color);\n",
              "      border-bottom-color: var(--fill-color);\n",
              "    }\n",
              "    90% {\n",
              "      border-color: transparent;\n",
              "      border-bottom-color: var(--fill-color);\n",
              "    }\n",
              "  }\n",
              "</style>\n",
              "\n",
              "  <script>\n",
              "    async function quickchart(key) {\n",
              "      const quickchartButtonEl =\n",
              "        document.querySelector('#' + key + ' button');\n",
              "      quickchartButtonEl.disabled = true;  // To prevent multiple clicks.\n",
              "      quickchartButtonEl.classList.add('colab-df-spinner');\n",
              "      try {\n",
              "        const charts = await google.colab.kernel.invokeFunction(\n",
              "            'suggestCharts', [key], {});\n",
              "      } catch (error) {\n",
              "        console.error('Error during call to suggestCharts:', error);\n",
              "      }\n",
              "      quickchartButtonEl.classList.remove('colab-df-spinner');\n",
              "      quickchartButtonEl.classList.add('colab-df-quickchart-complete');\n",
              "    }\n",
              "    (() => {\n",
              "      let quickchartButtonEl =\n",
              "        document.querySelector('#df-c9515d7f-0405-4656-a372-9c755399c5a8 button');\n",
              "      quickchartButtonEl.style.display =\n",
              "        google.colab.kernel.accessAllowed ? 'block' : 'none';\n",
              "    })();\n",
              "  </script>\n",
              "</div>\n",
              "    </div>\n",
              "  </div>\n"
            ],
            "application/vnd.google.colaboratory.intrinsic+json": {
              "type": "dataframe",
              "variable_name": "covid_data",
              "summary": "{\n  \"name\": \"covid_data\",\n  \"rows\": 212,\n  \"fields\": [\n    {\n      \"column\": \"location\",\n      \"properties\": {\n        \"dtype\": \"string\",\n        \"num_unique_values\": 212,\n        \"samples\": [\n          \"Bulgaria\",\n          \"Slovenia\",\n          \"Nicaragua\"\n        ],\n        \"semantic_type\": \"\",\n        \"description\": \"\"\n      }\n    },\n    {\n      \"column\": \"total_cases\",\n      \"properties\": {\n        \"dtype\": \"number\",\n        \"std\": 1875762.2640246067,\n        \"min\": 3.0,\n        \"max\": 26059065.0,\n        \"num_unique_values\": 210,\n        \"samples\": [\n          16454.0,\n          3310.0,\n          1382.0\n        ],\n        \"semantic_type\": \"\",\n        \"description\": \"\"\n      }\n    },\n    {\n      \"column\": \"total_deaths\",\n      \"properties\": {\n        \"dtype\": \"number\",\n        \"std\": 61654.54433404689,\n        \"min\": 0.0,\n        \"max\": 863535.0,\n        \"num_unique_values\": 157,\n        \"samples\": [\n          42.0,\n          626.0,\n          329.0\n        ],\n        \"semantic_type\": \"\",\n        \"description\": \"\"\n      }\n    },\n    {\n      \"column\": \"total_tests\",\n      \"properties\": {\n        \"dtype\": \"number\",\n        \"std\": 10616500.238255894,\n        \"min\": 8408.0,\n        \"max\": 83898416.0,\n        \"num_unique_values\": 90,\n        \"samples\": [\n          445722.0,\n          869430.0,\n          711225.0\n        ],\n        \"semantic_type\": \"\",\n        \"description\": \"\"\n      }\n    }\n  ]\n}"
            }
          },
          "metadata": {},
          "execution_count": 172
        }
      ]
    },
    {
      "cell_type": "markdown",
      "id": "d7f3d8f5-eb80-4d0e-b448-dfb6b2e5a857",
      "metadata": {
        "id": "d7f3d8f5-eb80-4d0e-b448-dfb6b2e5a857"
      },
      "source": [
        "1. Какое общее население планеты, согласно датасету?"
      ]
    },
    {
      "cell_type": "code",
      "execution_count": 147,
      "id": "a37dad90-aec4-42ee-928c-7cbc2381636c",
      "metadata": {
        "colab": {
          "base_uri": "https://localhost:8080/"
        },
        "id": "a37dad90-aec4-42ee-928c-7cbc2381636c",
        "outputId": "5e04fc73-3533-4f4f-eca4-425f54d9e258"
      },
      "outputs": [
        {
          "output_type": "stream",
          "name": "stdout",
          "text": [
            "7757980095.0\n"
          ]
        }
      ],
      "source": [
        "total_population = data['population'].sum()\n",
        "print(total_population)"
      ]
    },
    {
      "cell_type": "markdown",
      "id": "dcfbb87a-cdcb-46bc-b529-113c4e017cd2",
      "metadata": {
        "jp-MarkdownHeadingCollapsed": true,
        "id": "dcfbb87a-cdcb-46bc-b529-113c4e017cd2"
      },
      "source": [
        "2. Выведите страну с наименьшей продолжительностью жизни"
      ]
    },
    {
      "cell_type": "code",
      "execution_count": 149,
      "id": "0c70b56e-9223-4c50-9d9d-3f620a74aefb",
      "metadata": {
        "colab": {
          "base_uri": "https://localhost:8080/"
        },
        "id": "0c70b56e-9223-4c50-9d9d-3f620a74aefb",
        "outputId": "11a1b873-0086-49d0-8927-6bf8e4f9e1bb"
      },
      "outputs": [
        {
          "output_type": "stream",
          "name": "stdout",
          "text": [
            "Central African Republic\n"
          ]
        }
      ],
      "source": [
        "min_life_expectancy = data.loc[data['life_expectancy'].idxmin(), 'location']\n",
        "print(min_life_expectancy)"
      ]
    },
    {
      "cell_type": "markdown",
      "id": "002491e6-278f-4055-9f6c-bf5fc3e2dd87",
      "metadata": {
        "id": "002491e6-278f-4055-9f6c-bf5fc3e2dd87"
      },
      "source": [
        "3. Выведите страну с наибольшим ВВП на душу населения ('gdp_per_capita')"
      ]
    },
    {
      "cell_type": "code",
      "execution_count": 150,
      "id": "3add9e4d-8643-48ea-a55d-0a13a58cb6f4",
      "metadata": {
        "colab": {
          "base_uri": "https://localhost:8080/"
        },
        "id": "3add9e4d-8643-48ea-a55d-0a13a58cb6f4",
        "outputId": "4fdbb960-fa4e-4a0f-c5de-87595735dbf5"
      },
      "outputs": [
        {
          "output_type": "stream",
          "name": "stdout",
          "text": [
            "Qatar\n"
          ]
        }
      ],
      "source": [
        "max_gdp_country = data.loc[data['gdp_per_capita'].idxmax(), 'location']\n",
        "print(max_gdp_country)"
      ]
    },
    {
      "cell_type": "markdown",
      "id": "113f377e-2620-4103-8c5c-d7247d06b33d",
      "metadata": {
        "id": "113f377e-2620-4103-8c5c-d7247d06b33d"
      },
      "source": [
        "4. Заполните пропуски в 'life_expectancy' медианным значением и посчитайте среднюю продолжительность жизни"
      ]
    },
    {
      "cell_type": "code",
      "execution_count": 153,
      "id": "53b8f975-0df6-45dd-882d-493dcb12c03e",
      "metadata": {
        "colab": {
          "base_uri": "https://localhost:8080/"
        },
        "id": "53b8f975-0df6-45dd-882d-493dcb12c03e",
        "outputId": "9b851214-aa69-45b4-a0d9-07b2de46d41d"
      },
      "outputs": [
        {
          "output_type": "stream",
          "name": "stdout",
          "text": [
            "73.55214285714285\n"
          ]
        }
      ],
      "source": [
        "median_life_expectancy = data['life_expectancy'].median()\n",
        "data.update(data[['life_expectancy']].fillna(median_life_expectancy))\n",
        "avg_life_expectancy = data['life_expectancy'].mean()\n",
        "print(avg_life_expectancy)"
      ]
    },
    {
      "cell_type": "markdown",
      "id": "24f4f211-f1cf-47ad-9788-6008d786cad1",
      "metadata": {
        "id": "24f4f211-f1cf-47ad-9788-6008d786cad1"
      },
      "source": [
        "5. Выведите топ-15 стран по численности населения"
      ]
    },
    {
      "cell_type": "code",
      "execution_count": 168,
      "id": "ef0f7986-8b6b-4e52-9706-dba9a6f2aeca",
      "metadata": {
        "colab": {
          "base_uri": "https://localhost:8080/"
        },
        "id": "ef0f7986-8b6b-4e52-9706-dba9a6f2aeca",
        "outputId": "f421db45-97b3-4bd0-9f6c-2b5c8e2ea47f"
      },
      "outputs": [
        {
          "output_type": "stream",
          "name": "stdout",
          "text": [
            "Top 15 by population:\n",
            "     location   population\n",
            "        China 1439323774.0\n",
            "        India 1380004385.0\n",
            "United States  331002647.0\n",
            "    Indonesia  273523621.0\n",
            "     Pakistan  220892331.0\n",
            "       Brazil  212559409.0\n",
            "      Nigeria  206139587.0\n",
            "   Bangladesh  164689383.0\n",
            "       Russia  145934460.0\n",
            "       Mexico  128932753.0\n",
            "        Japan  126476458.0\n",
            "     Ethiopia  114963583.0\n",
            "  Philippines  109581085.0\n",
            "        Egypt  102334403.0\n",
            "      Vietnam   97338583.0\n"
          ]
        }
      ],
      "source": [
        "top = data.nlargest(15, 'population')[['location', 'population']]\n",
        "print(\"Top 15 by population:\")\n",
        "print(top.to_string(index=False))"
      ]
    },
    {
      "cell_type": "markdown",
      "id": "2a33ea01-5108-4cbd-be23-f1090dbd6dc6",
      "metadata": {
        "id": "2a33ea01-5108-4cbd-be23-f1090dbd6dc6"
      },
      "source": [
        "6. Среди стран, входящих в топ-25 по ВВП на душу населения (gdp_per_capita) выведите 5 стран с наименьшим населением"
      ]
    },
    {
      "cell_type": "code",
      "execution_count": 169,
      "id": "fff4add1-5f3f-4dc3-9b3f-b27ff336cf67",
      "metadata": {
        "colab": {
          "base_uri": "https://localhost:8080/"
        },
        "id": "fff4add1-5f3f-4dc3-9b3f-b27ff336cf67",
        "outputId": "3096161e-c34a-4597-ea8a-b836f4d56276"
      },
      "outputs": [
        {
          "output_type": "stream",
          "name": "stdout",
          "text": [
            "5 countries with the smallest population among top 25 GDP:\n",
            "      location  gdp_per_capita  population\n",
            "    San Marino       56861.470     33938.0\n",
            "       Bermuda       50669.315     62273.0\n",
            "Cayman Islands       49903.029     65720.0\n",
            "       Iceland       46482.958    341250.0\n",
            "        Brunei       71809.251    437483.0\n"
          ]
        }
      ],
      "source": [
        "top_gdp = data.nlargest(25, 'gdp_per_capita')\n",
        "min_population_in_top = top_gdp.nsmallest(5, 'population')[['location', 'gdp_per_capita', 'population']]\n",
        "print(\"5 countries with the smallest population among top 25 GDP:\")\n",
        "print(min_population_in_top.to_string(index=False))\n"
      ]
    },
    {
      "cell_type": "markdown",
      "id": "a8a1ec71-2d64-46d6-baf1-d9dde6c2c141",
      "metadata": {
        "id": "a8a1ec71-2d64-46d6-baf1-d9dde6c2c141"
      },
      "source": [
        "7. Соедините таблицы covid-country-data и countries"
      ]
    },
    {
      "cell_type": "code",
      "execution_count": 247,
      "id": "68176e4a-d971-4728-89e2-ffeab4662466",
      "metadata": {
        "colab": {
          "base_uri": "https://localhost:8080/",
          "height": 226
        },
        "id": "68176e4a-d971-4728-89e2-ffeab4662466",
        "outputId": "4c2572bb-448d-47af-b438-be0b29217341"
      },
      "outputs": [
        {
          "output_type": "execute_result",
          "data": {
            "text/plain": [
              "      location continent  population  life_expectancy  \\\n",
              "0  Afghanistan      Asia  38928341.0            64.83   \n",
              "1      Albania    Europe   2877800.0            78.57   \n",
              "2      Algeria    Africa  43851043.0            76.88   \n",
              "3      Andorra    Europe     77265.0            83.73   \n",
              "4       Angola    Africa  32866268.0            61.15   \n",
              "\n",
              "   hospital_beds_per_thousand  gdp_per_capita  total_cases  total_deaths  \\\n",
              "0                        0.50        1803.987      38243.0        1409.0   \n",
              "1                        2.89       11803.431       9728.0         296.0   \n",
              "2                        1.90       13913.839      45158.0        1525.0   \n",
              "3                         NaN             NaN       1199.0          53.0   \n",
              "4                         NaN        5819.495       2729.0         109.0   \n",
              "\n",
              "   total_tests  \n",
              "0          NaN  \n",
              "1          NaN  \n",
              "2          NaN  \n",
              "3          NaN  \n",
              "4          NaN  "
            ],
            "text/html": [
              "\n",
              "  <div id=\"df-65952583-9d27-4f41-9606-1d86462f04b8\" class=\"colab-df-container\">\n",
              "    <div>\n",
              "<style scoped>\n",
              "    .dataframe tbody tr th:only-of-type {\n",
              "        vertical-align: middle;\n",
              "    }\n",
              "\n",
              "    .dataframe tbody tr th {\n",
              "        vertical-align: top;\n",
              "    }\n",
              "\n",
              "    .dataframe thead th {\n",
              "        text-align: right;\n",
              "    }\n",
              "</style>\n",
              "<table border=\"1\" class=\"dataframe\">\n",
              "  <thead>\n",
              "    <tr style=\"text-align: right;\">\n",
              "      <th></th>\n",
              "      <th>location</th>\n",
              "      <th>continent</th>\n",
              "      <th>population</th>\n",
              "      <th>life_expectancy</th>\n",
              "      <th>hospital_beds_per_thousand</th>\n",
              "      <th>gdp_per_capita</th>\n",
              "      <th>total_cases</th>\n",
              "      <th>total_deaths</th>\n",
              "      <th>total_tests</th>\n",
              "    </tr>\n",
              "  </thead>\n",
              "  <tbody>\n",
              "    <tr>\n",
              "      <th>0</th>\n",
              "      <td>Afghanistan</td>\n",
              "      <td>Asia</td>\n",
              "      <td>38928341.0</td>\n",
              "      <td>64.83</td>\n",
              "      <td>0.50</td>\n",
              "      <td>1803.987</td>\n",
              "      <td>38243.0</td>\n",
              "      <td>1409.0</td>\n",
              "      <td>NaN</td>\n",
              "    </tr>\n",
              "    <tr>\n",
              "      <th>1</th>\n",
              "      <td>Albania</td>\n",
              "      <td>Europe</td>\n",
              "      <td>2877800.0</td>\n",
              "      <td>78.57</td>\n",
              "      <td>2.89</td>\n",
              "      <td>11803.431</td>\n",
              "      <td>9728.0</td>\n",
              "      <td>296.0</td>\n",
              "      <td>NaN</td>\n",
              "    </tr>\n",
              "    <tr>\n",
              "      <th>2</th>\n",
              "      <td>Algeria</td>\n",
              "      <td>Africa</td>\n",
              "      <td>43851043.0</td>\n",
              "      <td>76.88</td>\n",
              "      <td>1.90</td>\n",
              "      <td>13913.839</td>\n",
              "      <td>45158.0</td>\n",
              "      <td>1525.0</td>\n",
              "      <td>NaN</td>\n",
              "    </tr>\n",
              "    <tr>\n",
              "      <th>3</th>\n",
              "      <td>Andorra</td>\n",
              "      <td>Europe</td>\n",
              "      <td>77265.0</td>\n",
              "      <td>83.73</td>\n",
              "      <td>NaN</td>\n",
              "      <td>NaN</td>\n",
              "      <td>1199.0</td>\n",
              "      <td>53.0</td>\n",
              "      <td>NaN</td>\n",
              "    </tr>\n",
              "    <tr>\n",
              "      <th>4</th>\n",
              "      <td>Angola</td>\n",
              "      <td>Africa</td>\n",
              "      <td>32866268.0</td>\n",
              "      <td>61.15</td>\n",
              "      <td>NaN</td>\n",
              "      <td>5819.495</td>\n",
              "      <td>2729.0</td>\n",
              "      <td>109.0</td>\n",
              "      <td>NaN</td>\n",
              "    </tr>\n",
              "  </tbody>\n",
              "</table>\n",
              "</div>\n",
              "    <div class=\"colab-df-buttons\">\n",
              "\n",
              "  <div class=\"colab-df-container\">\n",
              "    <button class=\"colab-df-convert\" onclick=\"convertToInteractive('df-65952583-9d27-4f41-9606-1d86462f04b8')\"\n",
              "            title=\"Convert this dataframe to an interactive table.\"\n",
              "            style=\"display:none;\">\n",
              "\n",
              "  <svg xmlns=\"http://www.w3.org/2000/svg\" height=\"24px\" viewBox=\"0 -960 960 960\">\n",
              "    <path d=\"M120-120v-720h720v720H120Zm60-500h600v-160H180v160Zm220 220h160v-160H400v160Zm0 220h160v-160H400v160ZM180-400h160v-160H180v160Zm440 0h160v-160H620v160ZM180-180h160v-160H180v160Zm440 0h160v-160H620v160Z\"/>\n",
              "  </svg>\n",
              "    </button>\n",
              "\n",
              "  <style>\n",
              "    .colab-df-container {\n",
              "      display:flex;\n",
              "      gap: 12px;\n",
              "    }\n",
              "\n",
              "    .colab-df-convert {\n",
              "      background-color: #E8F0FE;\n",
              "      border: none;\n",
              "      border-radius: 50%;\n",
              "      cursor: pointer;\n",
              "      display: none;\n",
              "      fill: #1967D2;\n",
              "      height: 32px;\n",
              "      padding: 0 0 0 0;\n",
              "      width: 32px;\n",
              "    }\n",
              "\n",
              "    .colab-df-convert:hover {\n",
              "      background-color: #E2EBFA;\n",
              "      box-shadow: 0px 1px 2px rgba(60, 64, 67, 0.3), 0px 1px 3px 1px rgba(60, 64, 67, 0.15);\n",
              "      fill: #174EA6;\n",
              "    }\n",
              "\n",
              "    .colab-df-buttons div {\n",
              "      margin-bottom: 4px;\n",
              "    }\n",
              "\n",
              "    [theme=dark] .colab-df-convert {\n",
              "      background-color: #3B4455;\n",
              "      fill: #D2E3FC;\n",
              "    }\n",
              "\n",
              "    [theme=dark] .colab-df-convert:hover {\n",
              "      background-color: #434B5C;\n",
              "      box-shadow: 0px 1px 3px 1px rgba(0, 0, 0, 0.15);\n",
              "      filter: drop-shadow(0px 1px 2px rgba(0, 0, 0, 0.3));\n",
              "      fill: #FFFFFF;\n",
              "    }\n",
              "  </style>\n",
              "\n",
              "    <script>\n",
              "      const buttonEl =\n",
              "        document.querySelector('#df-65952583-9d27-4f41-9606-1d86462f04b8 button.colab-df-convert');\n",
              "      buttonEl.style.display =\n",
              "        google.colab.kernel.accessAllowed ? 'block' : 'none';\n",
              "\n",
              "      async function convertToInteractive(key) {\n",
              "        const element = document.querySelector('#df-65952583-9d27-4f41-9606-1d86462f04b8');\n",
              "        const dataTable =\n",
              "          await google.colab.kernel.invokeFunction('convertToInteractive',\n",
              "                                                    [key], {});\n",
              "        if (!dataTable) return;\n",
              "\n",
              "        const docLinkHtml = 'Like what you see? Visit the ' +\n",
              "          '<a target=\"_blank\" href=https://colab.research.google.com/notebooks/data_table.ipynb>data table notebook</a>'\n",
              "          + ' to learn more about interactive tables.';\n",
              "        element.innerHTML = '';\n",
              "        dataTable['output_type'] = 'display_data';\n",
              "        await google.colab.output.renderOutput(dataTable, element);\n",
              "        const docLink = document.createElement('div');\n",
              "        docLink.innerHTML = docLinkHtml;\n",
              "        element.appendChild(docLink);\n",
              "      }\n",
              "    </script>\n",
              "  </div>\n",
              "\n",
              "\n",
              "<div id=\"df-ab15a26d-3592-46b9-9086-6fd87d642a4e\">\n",
              "  <button class=\"colab-df-quickchart\" onclick=\"quickchart('df-ab15a26d-3592-46b9-9086-6fd87d642a4e')\"\n",
              "            title=\"Suggest charts\"\n",
              "            style=\"display:none;\">\n",
              "\n",
              "<svg xmlns=\"http://www.w3.org/2000/svg\" height=\"24px\"viewBox=\"0 0 24 24\"\n",
              "     width=\"24px\">\n",
              "    <g>\n",
              "        <path d=\"M19 3H5c-1.1 0-2 .9-2 2v14c0 1.1.9 2 2 2h14c1.1 0 2-.9 2-2V5c0-1.1-.9-2-2-2zM9 17H7v-7h2v7zm4 0h-2V7h2v10zm4 0h-2v-4h2v4z\"/>\n",
              "    </g>\n",
              "</svg>\n",
              "  </button>\n",
              "\n",
              "<style>\n",
              "  .colab-df-quickchart {\n",
              "      --bg-color: #E8F0FE;\n",
              "      --fill-color: #1967D2;\n",
              "      --hover-bg-color: #E2EBFA;\n",
              "      --hover-fill-color: #174EA6;\n",
              "      --disabled-fill-color: #AAA;\n",
              "      --disabled-bg-color: #DDD;\n",
              "  }\n",
              "\n",
              "  [theme=dark] .colab-df-quickchart {\n",
              "      --bg-color: #3B4455;\n",
              "      --fill-color: #D2E3FC;\n",
              "      --hover-bg-color: #434B5C;\n",
              "      --hover-fill-color: #FFFFFF;\n",
              "      --disabled-bg-color: #3B4455;\n",
              "      --disabled-fill-color: #666;\n",
              "  }\n",
              "\n",
              "  .colab-df-quickchart {\n",
              "    background-color: var(--bg-color);\n",
              "    border: none;\n",
              "    border-radius: 50%;\n",
              "    cursor: pointer;\n",
              "    display: none;\n",
              "    fill: var(--fill-color);\n",
              "    height: 32px;\n",
              "    padding: 0;\n",
              "    width: 32px;\n",
              "  }\n",
              "\n",
              "  .colab-df-quickchart:hover {\n",
              "    background-color: var(--hover-bg-color);\n",
              "    box-shadow: 0 1px 2px rgba(60, 64, 67, 0.3), 0 1px 3px 1px rgba(60, 64, 67, 0.15);\n",
              "    fill: var(--button-hover-fill-color);\n",
              "  }\n",
              "\n",
              "  .colab-df-quickchart-complete:disabled,\n",
              "  .colab-df-quickchart-complete:disabled:hover {\n",
              "    background-color: var(--disabled-bg-color);\n",
              "    fill: var(--disabled-fill-color);\n",
              "    box-shadow: none;\n",
              "  }\n",
              "\n",
              "  .colab-df-spinner {\n",
              "    border: 2px solid var(--fill-color);\n",
              "    border-color: transparent;\n",
              "    border-bottom-color: var(--fill-color);\n",
              "    animation:\n",
              "      spin 1s steps(1) infinite;\n",
              "  }\n",
              "\n",
              "  @keyframes spin {\n",
              "    0% {\n",
              "      border-color: transparent;\n",
              "      border-bottom-color: var(--fill-color);\n",
              "      border-left-color: var(--fill-color);\n",
              "    }\n",
              "    20% {\n",
              "      border-color: transparent;\n",
              "      border-left-color: var(--fill-color);\n",
              "      border-top-color: var(--fill-color);\n",
              "    }\n",
              "    30% {\n",
              "      border-color: transparent;\n",
              "      border-left-color: var(--fill-color);\n",
              "      border-top-color: var(--fill-color);\n",
              "      border-right-color: var(--fill-color);\n",
              "    }\n",
              "    40% {\n",
              "      border-color: transparent;\n",
              "      border-right-color: var(--fill-color);\n",
              "      border-top-color: var(--fill-color);\n",
              "    }\n",
              "    60% {\n",
              "      border-color: transparent;\n",
              "      border-right-color: var(--fill-color);\n",
              "    }\n",
              "    80% {\n",
              "      border-color: transparent;\n",
              "      border-right-color: var(--fill-color);\n",
              "      border-bottom-color: var(--fill-color);\n",
              "    }\n",
              "    90% {\n",
              "      border-color: transparent;\n",
              "      border-bottom-color: var(--fill-color);\n",
              "    }\n",
              "  }\n",
              "</style>\n",
              "\n",
              "  <script>\n",
              "    async function quickchart(key) {\n",
              "      const quickchartButtonEl =\n",
              "        document.querySelector('#' + key + ' button');\n",
              "      quickchartButtonEl.disabled = true;  // To prevent multiple clicks.\n",
              "      quickchartButtonEl.classList.add('colab-df-spinner');\n",
              "      try {\n",
              "        const charts = await google.colab.kernel.invokeFunction(\n",
              "            'suggestCharts', [key], {});\n",
              "      } catch (error) {\n",
              "        console.error('Error during call to suggestCharts:', error);\n",
              "      }\n",
              "      quickchartButtonEl.classList.remove('colab-df-spinner');\n",
              "      quickchartButtonEl.classList.add('colab-df-quickchart-complete');\n",
              "    }\n",
              "    (() => {\n",
              "      let quickchartButtonEl =\n",
              "        document.querySelector('#df-ab15a26d-3592-46b9-9086-6fd87d642a4e button');\n",
              "      quickchartButtonEl.style.display =\n",
              "        google.colab.kernel.accessAllowed ? 'block' : 'none';\n",
              "    })();\n",
              "  </script>\n",
              "</div>\n",
              "    </div>\n",
              "  </div>\n"
            ],
            "application/vnd.google.colaboratory.intrinsic+json": {
              "type": "dataframe",
              "variable_name": "merged_data",
              "summary": "{\n  \"name\": \"merged_data\",\n  \"rows\": 212,\n  \"fields\": [\n    {\n      \"column\": \"location\",\n      \"properties\": {\n        \"dtype\": \"string\",\n        \"num_unique_values\": 212,\n        \"samples\": [\n          \"Bulgaria\",\n          \"Slovenia\",\n          \"Nicaragua\"\n        ],\n        \"semantic_type\": \"\",\n        \"description\": \"\"\n      }\n    },\n    {\n      \"column\": \"continent\",\n      \"properties\": {\n        \"dtype\": \"category\",\n        \"num_unique_values\": 6,\n        \"samples\": [\n          \"Asia\",\n          \"Europe\",\n          \"Oceania\"\n        ],\n        \"semantic_type\": \"\",\n        \"description\": \"\"\n      }\n    },\n    {\n      \"column\": \"population\",\n      \"properties\": {\n        \"dtype\": \"number\",\n        \"std\": 142509205.1345025,\n        \"min\": 809.0,\n        \"max\": 1439323774.0,\n        \"num_unique_values\": 210,\n        \"samples\": [\n          6948445.0,\n          2078932.0,\n          786559.0\n        ],\n        \"semantic_type\": \"\",\n        \"description\": \"\"\n      }\n    },\n    {\n      \"column\": \"life_expectancy\",\n      \"properties\": {\n        \"dtype\": \"number\",\n        \"std\": 7.560056151115566,\n        \"min\": 53.28,\n        \"max\": 86.75,\n        \"num_unique_values\": 197,\n        \"samples\": [\n          74.25,\n          76.16,\n          79.19\n        ],\n        \"semantic_type\": \"\",\n        \"description\": \"\"\n      }\n    },\n    {\n      \"column\": \"hospital_beds_per_thousand\",\n      \"properties\": {\n        \"dtype\": \"number\",\n        \"std\": 2.4649168855927863,\n        \"min\": 0.1,\n        \"max\": 13.8,\n        \"num_unique_values\": 99,\n        \"samples\": [\n          2.397,\n          0.3,\n          2.54\n        ],\n        \"semantic_type\": \"\",\n        \"description\": \"\"\n      }\n    },\n    {\n      \"column\": \"gdp_per_capita\",\n      \"properties\": {\n        \"dtype\": \"number\",\n        \"std\": 19820.802488409412,\n        \"min\": 661.24,\n        \"max\": 116935.6,\n        \"num_unique_values\": 183,\n        \"samples\": [\n          50669.315,\n          3601.006,\n          1569.888\n        ],\n        \"semantic_type\": \"\",\n        \"description\": \"\"\n      }\n    },\n    {\n      \"column\": \"total_cases\",\n      \"properties\": {\n        \"dtype\": \"number\",\n        \"std\": 1875762.2640246067,\n        \"min\": 3.0,\n        \"max\": 26059065.0,\n        \"num_unique_values\": 210,\n        \"samples\": [\n          16454.0,\n          3310.0,\n          1382.0\n        ],\n        \"semantic_type\": \"\",\n        \"description\": \"\"\n      }\n    },\n    {\n      \"column\": \"total_deaths\",\n      \"properties\": {\n        \"dtype\": \"number\",\n        \"std\": 61654.54433404689,\n        \"min\": 0.0,\n        \"max\": 863535.0,\n        \"num_unique_values\": 157,\n        \"samples\": [\n          42.0,\n          626.0,\n          329.0\n        ],\n        \"semantic_type\": \"\",\n        \"description\": \"\"\n      }\n    },\n    {\n      \"column\": \"total_tests\",\n      \"properties\": {\n        \"dtype\": \"number\",\n        \"std\": 10616500.238255894,\n        \"min\": 8408.0,\n        \"max\": 83898416.0,\n        \"num_unique_values\": 90,\n        \"samples\": [\n          445722.0,\n          869430.0,\n          711225.0\n        ],\n        \"semantic_type\": \"\",\n        \"description\": \"\"\n      }\n    }\n  ]\n}"
            }
          },
          "metadata": {},
          "execution_count": 247
        }
      ],
      "source": [
        "merged_data = pd.merge(data, covid_data, on='location', how='outer')\n",
        "merged_data.head()"
      ]
    },
    {
      "cell_type": "markdown",
      "id": "d63c4360-d6d6-4b19-8866-357831d19562",
      "metadata": {
        "id": "d63c4360-d6d6-4b19-8866-357831d19562"
      },
      "source": [
        "8. Добавьте для всех стран добавьте колонку, в которой была бы отражена смертность на 1 млн человек населения (пропуски заполните средним значением)"
      ]
    },
    {
      "cell_type": "code",
      "source": [
        "merged_data['deaths_per_million'] = (merged_data['total_deaths'] / merged_data['population']) * 1_000_000\n",
        "mean_deaths_per_million = merged_data['deaths_per_million'].mean()\n",
        "merged_data['deaths_per_million'] = merged_data['deaths_per_million'].fillna(mean_deaths_per_million)\n",
        "merged_data.head()"
      ],
      "metadata": {
        "colab": {
          "base_uri": "https://localhost:8080/",
          "height": 226
        },
        "id": "NZLUsrs2LTCW",
        "outputId": "5c5e2ea4-8f83-4efe-9a49-69dff5e9ae94"
      },
      "id": "NZLUsrs2LTCW",
      "execution_count": 263,
      "outputs": [
        {
          "output_type": "execute_result",
          "data": {
            "text/plain": [
              "      location continent  population  life_expectancy  \\\n",
              "0  Afghanistan      Asia  38928341.0            64.83   \n",
              "1      Albania    Europe   2877800.0            78.57   \n",
              "2      Algeria    Africa  43851043.0            76.88   \n",
              "3      Andorra    Europe     77265.0            83.73   \n",
              "4       Angola    Africa  32866268.0            61.15   \n",
              "\n",
              "   hospital_beds_per_thousand  gdp_per_capita  total_cases  total_deaths  \\\n",
              "0                        0.50        1803.987      38243.0        1409.0   \n",
              "1                        2.89       11803.431       9728.0         296.0   \n",
              "2                        1.90       13913.839      45158.0        1525.0   \n",
              "3                         NaN             NaN       1199.0          53.0   \n",
              "4                         NaN        5819.495       2729.0         109.0   \n",
              "\n",
              "   total_tests  deaths_per_thousand  deaths_per_million  \n",
              "0          0.0             0.036195           36.194710  \n",
              "1          0.0             0.102856          102.856349  \n",
              "2          0.0             0.034777           34.776824  \n",
              "3          0.0             0.685951          685.950948  \n",
              "4          0.0             0.003316            3.316470  "
            ],
            "text/html": [
              "\n",
              "  <div id=\"df-e1eb85f6-14e3-488e-9aea-50e8e7aed01c\" class=\"colab-df-container\">\n",
              "    <div>\n",
              "<style scoped>\n",
              "    .dataframe tbody tr th:only-of-type {\n",
              "        vertical-align: middle;\n",
              "    }\n",
              "\n",
              "    .dataframe tbody tr th {\n",
              "        vertical-align: top;\n",
              "    }\n",
              "\n",
              "    .dataframe thead th {\n",
              "        text-align: right;\n",
              "    }\n",
              "</style>\n",
              "<table border=\"1\" class=\"dataframe\">\n",
              "  <thead>\n",
              "    <tr style=\"text-align: right;\">\n",
              "      <th></th>\n",
              "      <th>location</th>\n",
              "      <th>continent</th>\n",
              "      <th>population</th>\n",
              "      <th>life_expectancy</th>\n",
              "      <th>hospital_beds_per_thousand</th>\n",
              "      <th>gdp_per_capita</th>\n",
              "      <th>total_cases</th>\n",
              "      <th>total_deaths</th>\n",
              "      <th>total_tests</th>\n",
              "      <th>deaths_per_thousand</th>\n",
              "      <th>deaths_per_million</th>\n",
              "    </tr>\n",
              "  </thead>\n",
              "  <tbody>\n",
              "    <tr>\n",
              "      <th>0</th>\n",
              "      <td>Afghanistan</td>\n",
              "      <td>Asia</td>\n",
              "      <td>38928341.0</td>\n",
              "      <td>64.83</td>\n",
              "      <td>0.50</td>\n",
              "      <td>1803.987</td>\n",
              "      <td>38243.0</td>\n",
              "      <td>1409.0</td>\n",
              "      <td>0.0</td>\n",
              "      <td>0.036195</td>\n",
              "      <td>36.194710</td>\n",
              "    </tr>\n",
              "    <tr>\n",
              "      <th>1</th>\n",
              "      <td>Albania</td>\n",
              "      <td>Europe</td>\n",
              "      <td>2877800.0</td>\n",
              "      <td>78.57</td>\n",
              "      <td>2.89</td>\n",
              "      <td>11803.431</td>\n",
              "      <td>9728.0</td>\n",
              "      <td>296.0</td>\n",
              "      <td>0.0</td>\n",
              "      <td>0.102856</td>\n",
              "      <td>102.856349</td>\n",
              "    </tr>\n",
              "    <tr>\n",
              "      <th>2</th>\n",
              "      <td>Algeria</td>\n",
              "      <td>Africa</td>\n",
              "      <td>43851043.0</td>\n",
              "      <td>76.88</td>\n",
              "      <td>1.90</td>\n",
              "      <td>13913.839</td>\n",
              "      <td>45158.0</td>\n",
              "      <td>1525.0</td>\n",
              "      <td>0.0</td>\n",
              "      <td>0.034777</td>\n",
              "      <td>34.776824</td>\n",
              "    </tr>\n",
              "    <tr>\n",
              "      <th>3</th>\n",
              "      <td>Andorra</td>\n",
              "      <td>Europe</td>\n",
              "      <td>77265.0</td>\n",
              "      <td>83.73</td>\n",
              "      <td>NaN</td>\n",
              "      <td>NaN</td>\n",
              "      <td>1199.0</td>\n",
              "      <td>53.0</td>\n",
              "      <td>0.0</td>\n",
              "      <td>0.685951</td>\n",
              "      <td>685.950948</td>\n",
              "    </tr>\n",
              "    <tr>\n",
              "      <th>4</th>\n",
              "      <td>Angola</td>\n",
              "      <td>Africa</td>\n",
              "      <td>32866268.0</td>\n",
              "      <td>61.15</td>\n",
              "      <td>NaN</td>\n",
              "      <td>5819.495</td>\n",
              "      <td>2729.0</td>\n",
              "      <td>109.0</td>\n",
              "      <td>0.0</td>\n",
              "      <td>0.003316</td>\n",
              "      <td>3.316470</td>\n",
              "    </tr>\n",
              "  </tbody>\n",
              "</table>\n",
              "</div>\n",
              "    <div class=\"colab-df-buttons\">\n",
              "\n",
              "  <div class=\"colab-df-container\">\n",
              "    <button class=\"colab-df-convert\" onclick=\"convertToInteractive('df-e1eb85f6-14e3-488e-9aea-50e8e7aed01c')\"\n",
              "            title=\"Convert this dataframe to an interactive table.\"\n",
              "            style=\"display:none;\">\n",
              "\n",
              "  <svg xmlns=\"http://www.w3.org/2000/svg\" height=\"24px\" viewBox=\"0 -960 960 960\">\n",
              "    <path d=\"M120-120v-720h720v720H120Zm60-500h600v-160H180v160Zm220 220h160v-160H400v160Zm0 220h160v-160H400v160ZM180-400h160v-160H180v160Zm440 0h160v-160H620v160ZM180-180h160v-160H180v160Zm440 0h160v-160H620v160Z\"/>\n",
              "  </svg>\n",
              "    </button>\n",
              "\n",
              "  <style>\n",
              "    .colab-df-container {\n",
              "      display:flex;\n",
              "      gap: 12px;\n",
              "    }\n",
              "\n",
              "    .colab-df-convert {\n",
              "      background-color: #E8F0FE;\n",
              "      border: none;\n",
              "      border-radius: 50%;\n",
              "      cursor: pointer;\n",
              "      display: none;\n",
              "      fill: #1967D2;\n",
              "      height: 32px;\n",
              "      padding: 0 0 0 0;\n",
              "      width: 32px;\n",
              "    }\n",
              "\n",
              "    .colab-df-convert:hover {\n",
              "      background-color: #E2EBFA;\n",
              "      box-shadow: 0px 1px 2px rgba(60, 64, 67, 0.3), 0px 1px 3px 1px rgba(60, 64, 67, 0.15);\n",
              "      fill: #174EA6;\n",
              "    }\n",
              "\n",
              "    .colab-df-buttons div {\n",
              "      margin-bottom: 4px;\n",
              "    }\n",
              "\n",
              "    [theme=dark] .colab-df-convert {\n",
              "      background-color: #3B4455;\n",
              "      fill: #D2E3FC;\n",
              "    }\n",
              "\n",
              "    [theme=dark] .colab-df-convert:hover {\n",
              "      background-color: #434B5C;\n",
              "      box-shadow: 0px 1px 3px 1px rgba(0, 0, 0, 0.15);\n",
              "      filter: drop-shadow(0px 1px 2px rgba(0, 0, 0, 0.3));\n",
              "      fill: #FFFFFF;\n",
              "    }\n",
              "  </style>\n",
              "\n",
              "    <script>\n",
              "      const buttonEl =\n",
              "        document.querySelector('#df-e1eb85f6-14e3-488e-9aea-50e8e7aed01c button.colab-df-convert');\n",
              "      buttonEl.style.display =\n",
              "        google.colab.kernel.accessAllowed ? 'block' : 'none';\n",
              "\n",
              "      async function convertToInteractive(key) {\n",
              "        const element = document.querySelector('#df-e1eb85f6-14e3-488e-9aea-50e8e7aed01c');\n",
              "        const dataTable =\n",
              "          await google.colab.kernel.invokeFunction('convertToInteractive',\n",
              "                                                    [key], {});\n",
              "        if (!dataTable) return;\n",
              "\n",
              "        const docLinkHtml = 'Like what you see? Visit the ' +\n",
              "          '<a target=\"_blank\" href=https://colab.research.google.com/notebooks/data_table.ipynb>data table notebook</a>'\n",
              "          + ' to learn more about interactive tables.';\n",
              "        element.innerHTML = '';\n",
              "        dataTable['output_type'] = 'display_data';\n",
              "        await google.colab.output.renderOutput(dataTable, element);\n",
              "        const docLink = document.createElement('div');\n",
              "        docLink.innerHTML = docLinkHtml;\n",
              "        element.appendChild(docLink);\n",
              "      }\n",
              "    </script>\n",
              "  </div>\n",
              "\n",
              "\n",
              "<div id=\"df-fefbb64d-cdec-484a-a68d-25d91d5acabc\">\n",
              "  <button class=\"colab-df-quickchart\" onclick=\"quickchart('df-fefbb64d-cdec-484a-a68d-25d91d5acabc')\"\n",
              "            title=\"Suggest charts\"\n",
              "            style=\"display:none;\">\n",
              "\n",
              "<svg xmlns=\"http://www.w3.org/2000/svg\" height=\"24px\"viewBox=\"0 0 24 24\"\n",
              "     width=\"24px\">\n",
              "    <g>\n",
              "        <path d=\"M19 3H5c-1.1 0-2 .9-2 2v14c0 1.1.9 2 2 2h14c1.1 0 2-.9 2-2V5c0-1.1-.9-2-2-2zM9 17H7v-7h2v7zm4 0h-2V7h2v10zm4 0h-2v-4h2v4z\"/>\n",
              "    </g>\n",
              "</svg>\n",
              "  </button>\n",
              "\n",
              "<style>\n",
              "  .colab-df-quickchart {\n",
              "      --bg-color: #E8F0FE;\n",
              "      --fill-color: #1967D2;\n",
              "      --hover-bg-color: #E2EBFA;\n",
              "      --hover-fill-color: #174EA6;\n",
              "      --disabled-fill-color: #AAA;\n",
              "      --disabled-bg-color: #DDD;\n",
              "  }\n",
              "\n",
              "  [theme=dark] .colab-df-quickchart {\n",
              "      --bg-color: #3B4455;\n",
              "      --fill-color: #D2E3FC;\n",
              "      --hover-bg-color: #434B5C;\n",
              "      --hover-fill-color: #FFFFFF;\n",
              "      --disabled-bg-color: #3B4455;\n",
              "      --disabled-fill-color: #666;\n",
              "  }\n",
              "\n",
              "  .colab-df-quickchart {\n",
              "    background-color: var(--bg-color);\n",
              "    border: none;\n",
              "    border-radius: 50%;\n",
              "    cursor: pointer;\n",
              "    display: none;\n",
              "    fill: var(--fill-color);\n",
              "    height: 32px;\n",
              "    padding: 0;\n",
              "    width: 32px;\n",
              "  }\n",
              "\n",
              "  .colab-df-quickchart:hover {\n",
              "    background-color: var(--hover-bg-color);\n",
              "    box-shadow: 0 1px 2px rgba(60, 64, 67, 0.3), 0 1px 3px 1px rgba(60, 64, 67, 0.15);\n",
              "    fill: var(--button-hover-fill-color);\n",
              "  }\n",
              "\n",
              "  .colab-df-quickchart-complete:disabled,\n",
              "  .colab-df-quickchart-complete:disabled:hover {\n",
              "    background-color: var(--disabled-bg-color);\n",
              "    fill: var(--disabled-fill-color);\n",
              "    box-shadow: none;\n",
              "  }\n",
              "\n",
              "  .colab-df-spinner {\n",
              "    border: 2px solid var(--fill-color);\n",
              "    border-color: transparent;\n",
              "    border-bottom-color: var(--fill-color);\n",
              "    animation:\n",
              "      spin 1s steps(1) infinite;\n",
              "  }\n",
              "\n",
              "  @keyframes spin {\n",
              "    0% {\n",
              "      border-color: transparent;\n",
              "      border-bottom-color: var(--fill-color);\n",
              "      border-left-color: var(--fill-color);\n",
              "    }\n",
              "    20% {\n",
              "      border-color: transparent;\n",
              "      border-left-color: var(--fill-color);\n",
              "      border-top-color: var(--fill-color);\n",
              "    }\n",
              "    30% {\n",
              "      border-color: transparent;\n",
              "      border-left-color: var(--fill-color);\n",
              "      border-top-color: var(--fill-color);\n",
              "      border-right-color: var(--fill-color);\n",
              "    }\n",
              "    40% {\n",
              "      border-color: transparent;\n",
              "      border-right-color: var(--fill-color);\n",
              "      border-top-color: var(--fill-color);\n",
              "    }\n",
              "    60% {\n",
              "      border-color: transparent;\n",
              "      border-right-color: var(--fill-color);\n",
              "    }\n",
              "    80% {\n",
              "      border-color: transparent;\n",
              "      border-right-color: var(--fill-color);\n",
              "      border-bottom-color: var(--fill-color);\n",
              "    }\n",
              "    90% {\n",
              "      border-color: transparent;\n",
              "      border-bottom-color: var(--fill-color);\n",
              "    }\n",
              "  }\n",
              "</style>\n",
              "\n",
              "  <script>\n",
              "    async function quickchart(key) {\n",
              "      const quickchartButtonEl =\n",
              "        document.querySelector('#' + key + ' button');\n",
              "      quickchartButtonEl.disabled = true;  // To prevent multiple clicks.\n",
              "      quickchartButtonEl.classList.add('colab-df-spinner');\n",
              "      try {\n",
              "        const charts = await google.colab.kernel.invokeFunction(\n",
              "            'suggestCharts', [key], {});\n",
              "      } catch (error) {\n",
              "        console.error('Error during call to suggestCharts:', error);\n",
              "      }\n",
              "      quickchartButtonEl.classList.remove('colab-df-spinner');\n",
              "      quickchartButtonEl.classList.add('colab-df-quickchart-complete');\n",
              "    }\n",
              "    (() => {\n",
              "      let quickchartButtonEl =\n",
              "        document.querySelector('#df-fefbb64d-cdec-484a-a68d-25d91d5acabc button');\n",
              "      quickchartButtonEl.style.display =\n",
              "        google.colab.kernel.accessAllowed ? 'block' : 'none';\n",
              "    })();\n",
              "  </script>\n",
              "</div>\n",
              "    </div>\n",
              "  </div>\n"
            ],
            "application/vnd.google.colaboratory.intrinsic+json": {
              "type": "dataframe",
              "variable_name": "merged_data",
              "summary": "{\n  \"name\": \"merged_data\",\n  \"rows\": 212,\n  \"fields\": [\n    {\n      \"column\": \"location\",\n      \"properties\": {\n        \"dtype\": \"string\",\n        \"num_unique_values\": 212,\n        \"samples\": [\n          \"Bulgaria\",\n          \"Slovenia\",\n          \"Nicaragua\"\n        ],\n        \"semantic_type\": \"\",\n        \"description\": \"\"\n      }\n    },\n    {\n      \"column\": \"continent\",\n      \"properties\": {\n        \"dtype\": \"category\",\n        \"num_unique_values\": 6,\n        \"samples\": [\n          \"Asia\",\n          \"Europe\",\n          \"Oceania\"\n        ],\n        \"semantic_type\": \"\",\n        \"description\": \"\"\n      }\n    },\n    {\n      \"column\": \"population\",\n      \"properties\": {\n        \"dtype\": \"number\",\n        \"std\": 142509205.1345025,\n        \"min\": 809.0,\n        \"max\": 1439323774.0,\n        \"num_unique_values\": 210,\n        \"samples\": [\n          6948445.0,\n          2078932.0,\n          786559.0\n        ],\n        \"semantic_type\": \"\",\n        \"description\": \"\"\n      }\n    },\n    {\n      \"column\": \"life_expectancy\",\n      \"properties\": {\n        \"dtype\": \"number\",\n        \"std\": 7.560056151115566,\n        \"min\": 53.28,\n        \"max\": 86.75,\n        \"num_unique_values\": 197,\n        \"samples\": [\n          74.25,\n          76.16,\n          79.19\n        ],\n        \"semantic_type\": \"\",\n        \"description\": \"\"\n      }\n    },\n    {\n      \"column\": \"hospital_beds_per_thousand\",\n      \"properties\": {\n        \"dtype\": \"number\",\n        \"std\": 2.4649168855927863,\n        \"min\": 0.1,\n        \"max\": 13.8,\n        \"num_unique_values\": 99,\n        \"samples\": [\n          2.397,\n          0.3,\n          2.54\n        ],\n        \"semantic_type\": \"\",\n        \"description\": \"\"\n      }\n    },\n    {\n      \"column\": \"gdp_per_capita\",\n      \"properties\": {\n        \"dtype\": \"number\",\n        \"std\": 19820.802488409412,\n        \"min\": 661.24,\n        \"max\": 116935.6,\n        \"num_unique_values\": 183,\n        \"samples\": [\n          50669.315,\n          3601.006,\n          1569.888\n        ],\n        \"semantic_type\": \"\",\n        \"description\": \"\"\n      }\n    },\n    {\n      \"column\": \"total_cases\",\n      \"properties\": {\n        \"dtype\": \"number\",\n        \"std\": 1875762.2640246067,\n        \"min\": 3.0,\n        \"max\": 26059065.0,\n        \"num_unique_values\": 210,\n        \"samples\": [\n          16454.0,\n          3310.0,\n          1382.0\n        ],\n        \"semantic_type\": \"\",\n        \"description\": \"\"\n      }\n    },\n    {\n      \"column\": \"total_deaths\",\n      \"properties\": {\n        \"dtype\": \"number\",\n        \"std\": 61654.54433404689,\n        \"min\": 0.0,\n        \"max\": 863535.0,\n        \"num_unique_values\": 157,\n        \"samples\": [\n          42.0,\n          626.0,\n          329.0\n        ],\n        \"semantic_type\": \"\",\n        \"description\": \"\"\n      }\n    },\n    {\n      \"column\": \"total_tests\",\n      \"properties\": {\n        \"dtype\": \"number\",\n        \"std\": 7106522.272017714,\n        \"min\": 0.0,\n        \"max\": 83898416.0,\n        \"num_unique_values\": 91,\n        \"samples\": [\n          2434444.0,\n          151940.0,\n          405916.0\n        ],\n        \"semantic_type\": \"\",\n        \"description\": \"\"\n      }\n    },\n    {\n      \"column\": \"deaths_per_thousand\",\n      \"properties\": {\n        \"dtype\": \"number\",\n        \"std\": 0.18193727984690544,\n        \"min\": 0.0,\n        \"max\": 1.2375508279804348,\n        \"num_unique_values\": 189,\n        \"samples\": [\n          0.0003595696477315681,\n          0.5762792756308129,\n          0.8540403754533369\n        ],\n        \"semantic_type\": \"\",\n        \"description\": \"\"\n      }\n    },\n    {\n      \"column\": \"deaths_per_million\",\n      \"properties\": {\n        \"dtype\": \"number\",\n        \"std\": 180.63925651772018,\n        \"min\": 0.0,\n        \"max\": 1237.5508279804349,\n        \"num_unique_values\": 190,\n        \"samples\": [\n          103.31112144222325,\n          561.1556332961893,\n          34.41111823230086\n        ],\n        \"semantic_type\": \"\",\n        \"description\": \"\"\n      }\n    }\n  ]\n}"
            }
          },
          "metadata": {},
          "execution_count": 263
        }
      ]
    },
    {
      "cell_type": "markdown",
      "id": "ca5c7aa7-87e3-4910-b210-e80f22d5624e",
      "metadata": {
        "id": "ca5c7aa7-87e3-4910-b210-e80f22d5624e"
      },
      "source": [
        "### 3. Визуализация"
      ]
    },
    {
      "cell_type": "markdown",
      "id": "0ef1d009-614d-4e27-8d24-bf51ac3caba9",
      "metadata": {
        "id": "0ef1d009-614d-4e27-8d24-bf51ac3caba9"
      },
      "source": [
        "Используя библиотеки matplotlib/sns/plotly/pandas и набор данных представленный ранее визуализируйте"
      ]
    },
    {
      "cell_type": "code",
      "source": [
        "import matplotlib.pyplot as plt\n",
        "import seaborn as sns"
      ],
      "metadata": {
        "id": "c21MqxJ4NyY5"
      },
      "id": "c21MqxJ4NyY5",
      "execution_count": 252,
      "outputs": []
    },
    {
      "cell_type": "markdown",
      "id": "e4d55de3-11af-4428-84c2-e5bf7e191841",
      "metadata": {
        "id": "e4d55de3-11af-4428-84c2-e5bf7e191841"
      },
      "source": [
        "1. Сделайте круговую диаграмму, на которой были бы отражено число заболеваний COVID-19 по континентам"
      ]
    },
    {
      "cell_type": "code",
      "execution_count": 294,
      "id": "699fa499-2d99-45d7-a776-489263d42247",
      "metadata": {
        "colab": {
          "base_uri": "https://localhost:8080/",
          "height": 675
        },
        "id": "699fa499-2d99-45d7-a776-489263d42247",
        "outputId": "6021e839-5fc2-4484-e370-900ee39d9ea3"
      },
      "outputs": [
        {
          "output_type": "display_data",
          "data": {
            "text/plain": [
              "<Figure size 800x800 with 1 Axes>"
            ],
            "image/png": "[encoded data removed]"
          },
          "metadata": {}
        }
      ],
      "source": [
        "plt.figure(figsize=(8, 8))\n",
        "cases_by_continent = merged_data.groupby('continent')['total_cases'].sum()\n",
        "def format(x):\n",
        "    num = int(round(x * total_cases / 100))\n",
        "    return f'{num}'\n",
        "cases_by_continent.plot(kind='pie', autopct=format, startangle=90)\n",
        "plt.title('Распределение случаев COVID-19 по континентам')\n",
        "plt.ylabel('')\n",
        "plt.show()"
      ]
    },
    {
      "cell_type": "markdown",
      "id": "73139dab-2ff9-4ad0-aa1a-39e216b38a88",
      "metadata": {
        "id": "73139dab-2ff9-4ad0-aa1a-39e216b38a88"
      },
      "source": [
        "2. Постройте диаграмму, на которой в порядке убывания были бы отмечены число тестов на COVID-19 в России, Китае, США, Индии и Нигерии"
      ]
    },
    {
      "cell_type": "code",
      "execution_count": 259,
      "id": "f392f906-169b-4be8-ae79-1dee4b9318c6",
      "metadata": {
        "colab": {
          "base_uri": "https://localhost:8080/",
          "height": 727
        },
        "id": "f392f906-169b-4be8-ae79-1dee4b9318c6",
        "outputId": "bc58b13f-bc95-44ca-95ec-ac2b210ddcf4"
      },
      "outputs": [
        {
          "output_type": "display_data",
          "data": {
            "text/plain": [
              "<Figure size 800x800 with 1 Axes>"
            ],
            "image/png": "[encoded data removed]"
          },
          "metadata": {}
        }
      ],
      "source": [
        "merged_data['total_tests'] = merged_data['total_tests'].fillna(0)\n",
        "plt.figure(figsize=(8, 8))\n",
        "selected_countries = ['Russia', 'China', 'United States', 'India', 'Nigeria']\n",
        "tests_data = merged_data[merged_data['location'].isin(selected_countries)]\n",
        "tests_data = tests_data.sort_values('total_tests', ascending=False)\n",
        "plt.bar(tests_data['location'], tests_data['total_tests'])\n",
        "plt.title('Количество тестов на COVID-19')\n",
        "plt.xlabel('Страны')\n",
        "plt.ylabel('Тестов (млн)')\n",
        "plt.show()"
      ]
    },
    {
      "cell_type": "markdown",
      "id": "f4312ba5-24e9-4ba1-8b83-47f2e6adc0b3",
      "metadata": {
        "id": "f4312ba5-24e9-4ba1-8b83-47f2e6adc0b3"
      },
      "source": [
        "3. Визуализируйте зависимость ВВП страны и случаев заболевания COVID-19"
      ]
    },
    {
      "cell_type": "code",
      "execution_count": 260,
      "id": "2e24856a-a2b9-4856-9ba8-f976eb64f15d",
      "metadata": {
        "colab": {
          "base_uri": "https://localhost:8080/",
          "height": 727
        },
        "id": "2e24856a-a2b9-4856-9ba8-f976eb64f15d",
        "outputId": "fb4ad509-b3ef-4236-f0e0-61d247befb9d"
      },
      "outputs": [
        {
          "output_type": "display_data",
          "data": {
            "text/plain": [
              "<Figure size 1000x800 with 1 Axes>"
            ],
            "image/png": "[encoded data removed]"
          },
          "metadata": {}
        }
      ],
      "source": [
        "plt.figure(figsize=(10, 8))\n",
        "sns.scatterplot(data=merged_data, x='gdp_per_capita', y='total_cases', hue='continent')\n",
        "plt.title('Зависимость ВВП и количества случаев COVID-19')\n",
        "plt.xlabel('ВВП на душу населения')\n",
        "plt.ylabel('Случаи (млн)')\n",
        "plt.legend(title='Континент')\n",
        "plt.grid(True)\n",
        "plt.show()"
      ]
    },
    {
      "cell_type": "markdown",
      "id": "3cf72686-0c04-4d4d-a6a5-19ba44cd904c",
      "metadata": {
        "id": "3cf72686-0c04-4d4d-a6a5-19ba44cd904c"
      },
      "source": [
        "4. Постройте гистограмму распределения количества смертей на один миллион человек"
      ]
    },
    {
      "cell_type": "code",
      "execution_count": 265,
      "id": "097ecabb-afc7-4c5d-b6f9-af3fc70a3c7a",
      "metadata": {
        "colab": {
          "base_uri": "https://localhost:8080/",
          "height": 727
        },
        "id": "097ecabb-afc7-4c5d-b6f9-af3fc70a3c7a",
        "outputId": "fb1627e8-8445-4a32-8969-1a2b8561f792"
      },
      "outputs": [
        {
          "output_type": "display_data",
          "data": {
            "text/plain": [
              "<Figure size 1000x800 with 1 Axes>"
            ],
            "image/png": "[encoded data removed]"
          },
          "metadata": {}
        }
      ],
      "source": [
        "plt.figure(figsize=(10, 8))\n",
        "sns.histplot(data=merged_data, x='deaths_per_million', bins=20, kde=True)\n",
        "plt.title('Распределение смертей на 1 млн человек')\n",
        "plt.xlabel('Смертей на млн')\n",
        "plt.ylabel('Количество стран')\n",
        "plt.grid(True)\n",
        "plt.show()"
      ]
    },
    {
      "cell_type": "markdown",
      "id": "62d2a839-dce0-4299-b9ac-ce21bed98e49",
      "metadata": {
        "id": "62d2a839-dce0-4299-b9ac-ce21bed98e49"
      },
      "source": [
        "5. Постройте диаграмму отображающую среднюю продолжительность жизни в разных странах европы"
      ]
    },
    {
      "cell_type": "code",
      "execution_count": 266,
      "id": "d00edc40-027b-4e0f-b627-7e4b246419da",
      "metadata": {
        "colab": {
          "base_uri": "https://localhost:8080/",
          "height": 925
        },
        "id": "d00edc40-027b-4e0f-b627-7e4b246419da",
        "outputId": "7e676750-8d63-43e5-9398-a477311c4296"
      },
      "outputs": [
        {
          "output_type": "display_data",
          "data": {
            "text/plain": [
              "<Figure size 1200x1000 with 1 Axes>"
            ],
            "image/png": "[encoded data removed]"
          },
          "metadata": {}
        }
      ],
      "source": [
        "plt.figure(figsize=(12, 10))\n",
        "europe_data = merged_data[merged_data['continent'] == 'Europe']\n",
        "europe_data = europe_data.sort_values('life_expectancy', ascending=False)\n",
        "plt.bar(europe_data['location'], europe_data['life_expectancy'])\n",
        "plt.title('Средняя продолжительность жизни в Европе')\n",
        "plt.xlabel('Страны')\n",
        "plt.ylabel('Лет')\n",
        "plt.xticks(rotation=90)\n",
        "plt.ylim(70, 87)\n",
        "plt.grid(True)\n",
        "plt.tight_layout()\n",
        "plt.show()"
      ]
    },
    {
      "cell_type": "markdown",
      "id": "c7ff8158-9942-4cfc-9fa3-650c052136fb",
      "metadata": {
        "id": "c7ff8158-9942-4cfc-9fa3-650c052136fb"
      },
      "source": [
        "6. Сравните распределения кол-ва смертей на 1000 человек в Европе и Африке"
      ]
    },
    {
      "cell_type": "code",
      "execution_count": 281,
      "id": "4d583213-486c-4927-b568-fc9e08c7de5c",
      "metadata": {
        "colab": {
          "base_uri": "https://localhost:8080/",
          "height": 740
        },
        "id": "4d583213-486c-4927-b568-fc9e08c7de5c",
        "outputId": "2ffc7425-66fa-4f21-eb07-282a69361317"
      },
      "outputs": [
        {
          "output_type": "display_data",
          "data": {
            "text/plain": [
              "<Figure size 1200x800 with 1 Axes>"
            ],
            "image/png": "[encoded data removed]"
          },
          "metadata": {}
        }
      ],
      "source": [
        "plt.figure(figsize=(12, 8))\n",
        "europe = merged_data[merged_data['continent'] == 'Europe']['deaths_per_million'] / 1000\n",
        "africa = merged_data[merged_data['continent'] == 'Africa']['deaths_per_million'] / 1000\n",
        "sns.histplot(europe, bins=20, color='blue', kde=True, alpha=0.4, label='Европа')\n",
        "sns.histplot(africa, bins=20, color='orange', kde=True, alpha=0.4, label='Африка')\n",
        "plt.title('Распределение смертей на 1000 человек')\n",
        "plt.xlabel('Смертей на 1000 человек')\n",
        "plt.ylabel('Количество стран')\n",
        "plt.legend()\n",
        "plt.grid(True)\n",
        "plt.tight_layout()\n",
        "plt.show()"
      ]
    }
  ],
  "metadata": {
    "kernelspec": {
      "display_name": "Python 3 (ipykernel)",
      "language": "python",
      "name": "python3"
    },
    "language_info": {
      "codemirror_mode": {
        "name": "ipython",
        "version": 3
      },
      "file_extension": ".py",
      "mimetype": "text/x-python",
      "name": "python",
      "nbconvert_exporter": "python",
      "pygments_lexer": "ipython3",
      "version": "3.11.7"
    },
    "colab": {
      "provenance": []
    }
  },
  "nbformat": 4,
  "nbformat_minor": 5
}